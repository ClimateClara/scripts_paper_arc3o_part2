{
 "cells": [
  {
   "cell_type": "markdown",
   "metadata": {},
   "source": [
    "Created on Tue Apr 02 17:57 2019\n",
    "\n",
    "Plot Figure A1\n",
    "\n",
    "@author: Clara Burgard"
   ]
  },
  {
   "cell_type": "code",
   "execution_count": null,
   "metadata": {},
   "outputs": [],
   "source": [
    "import xarray as xr\n",
    "import matplotlib.pyplot as plt\n",
    "import numpy as np\n",
    "import os\n",
    "import matplotlib as mpl\n",
    "import seaborn as sns"
   ]
  },
  {
   "cell_type": "code",
   "execution_count": null,
   "metadata": {},
   "outputs": [],
   "source": [
    "sns.set_context('paper')"
   ]
  },
  {
   "cell_type": "code",
   "execution_count": null,
   "metadata": {},
   "outputs": [],
   "source": [
    "obs_inputpath = '/work/mh0033/m300411/SatSim/WORK_DATA/observations/'\n",
    "mod_inputpath = '/work/mh0033/m300411/SatSim/WORK_DATA/simulated_TBs/'\n",
    "orig_inputpath = '/work/mh0033/m300411/SatSim/WORK_DATA/assimilation_runs/'\n",
    "plot_path = '/work/mh0033/m300411/SatSim/PLOTS/'"
   ]
  },
  {
   "cell_type": "markdown",
   "metadata": {},
   "source": [
    "READ IN THE DATA"
   ]
  },
  {
   "cell_type": "code",
   "execution_count": null,
   "metadata": {},
   "outputs": [],
   "source": [
    "obs = xr.open_dataset(os.path.abspath(obs_inputpath+'AMSRE_N25km_06V_E_2004-2008_modgrid.nc'))\n",
    "\n",
    "lon = obs['lon']\n",
    "lat = obs['lat']\n",
    "\n",
    "TB_mod_SICCI = xr.open_dataset(os.path.abspath(mod_inputpath+'20190131-1631/mergetime/TBtot_assim_2004-2008_7_dayavg.nc'))\n",
    "TB_mod_NT = xr.open_dataset(os.path.abspath(mod_inputpath+'20190131-1633/mergetime/TBtot_assim_2004-2008_7_dayavg.nc'))\n",
    "TB_mod_BT = xr.open_dataset(os.path.abspath(mod_inputpath+'20190131-1632/mergetime/TBtot_assim_2004-2008_7_dayavg.nc'))\n",
    "\n",
    "TB_mod_SICCI_ut = xr.open_dataset(os.path.abspath(mod_inputpath+'20190402-1210/mergetime/TBtot_assim_2004-2008_7_dayavg.nc'))\n",
    "TB_mod_NT_ut = xr.open_dataset(os.path.abspath(mod_inputpath+'20190402-1208/mergetime/TBtot_assim_2004-2008_7_dayavg.nc'))\n",
    "TB_mod_BT_ut = xr.open_dataset(os.path.abspath(mod_inputpath+'20190402-1207/mergetime/TBtot_assim_2004-2008_7_dayavg.nc'))\n",
    "\n",
    "TB_mod_SICCI['time'] = TB_mod_SICCI.indexes['time'].round('D')\n",
    "TB_mod_NT['time'] = TB_mod_NT.indexes['time'].round('D')\n",
    "TB_mod_BT['time'] = TB_mod_BT.indexes['time'].round('D')\n",
    "\n",
    "TB_mod_SICCI_ut['time'] = TB_mod_SICCI_ut.indexes['time'].round('D')\n",
    "TB_mod_NT_ut['time'] = TB_mod_NT_ut.indexes['time'].round('D')\n",
    "TB_mod_BT_ut['time'] = TB_mod_BT_ut.indexes['time'].round('D')\n",
    "\n",
    "TB_obs = obs['TB']\n",
    "TBV_mod_SICCI = TB_mod_SICCI['TBV'].sel(time=TB_obs.time)\n",
    "TBV_mod_NT = TB_mod_NT['TBV'].sel(time=TB_obs.time)\n",
    "TBV_mod_BT = TB_mod_BT['TBV'].sel(time=TB_obs.time)\n",
    "TBV_mod_SICCI_ut = TB_mod_SICCI_ut['TBV'].sel(time=TB_obs.time)\n",
    "TBV_mod_NT_ut = TB_mod_NT_ut['TBV'].sel(time=TB_obs.time)\n",
    "TBV_mod_BT_ut = TB_mod_BT_ut['TBV'].sel(time=TB_obs.time)\n"
   ]
  },
  {
   "cell_type": "markdown",
   "metadata": {},
   "source": [
    "PLOT FIGURE A1b"
   ]
  },
  {
   "cell_type": "code",
   "execution_count": null,
   "metadata": {},
   "outputs": [],
   "source": [
    "# prepare the distributions\n",
    "y = TB_obs.where(TBV_mod_SICCI>0).values.flatten()\n",
    "mask = ~np.isnan(y)\n",
    "y2 = TBV_mod_SICCI.values.flatten()\n",
    "mask2 = ~np.isnan(y2)\n",
    "y3 = TBV_mod_BT.values.flatten()\n",
    "mask3 = ~np.isnan(y3)\n",
    "y4 = TBV_mod_NT.values.flatten()\n",
    "mask4 = ~np.isnan(y4)\n",
    "\n",
    "plt.figure(figsize=(8.27/2,8.27/2))\n",
    "sns.distplot(y[mask], hist=True, kde=True, \n",
    "             bins=300, color = 'black', \n",
    "             hist_kws={'edgecolor':'black',\"alpha\": 0.1},\n",
    "             kde_kws={'linewidth': 2},\n",
    "             label='Observations')\n",
    "sns.distplot(y2[mask2], hist=True, kde=True, \n",
    "             bins=300, color = 'magenta', \n",
    "             hist_kws={'edgecolor':'magenta',\"alpha\": 0.1},\n",
    "             kde_kws={'linewidth': 2},\n",
    "             label='SICCI2')\n",
    "sns.distplot(y3[mask3], hist=True, kde=True, \n",
    "             bins=300, color = 'red', \n",
    "             hist_kws={'edgecolor':'red',\"alpha\": 0.1},\n",
    "             kde_kws={'linewidth': 2},\n",
    "             label='Bootstrap')\n",
    "sns.distplot(y4[mask4], hist=True, kde=True, \n",
    "             bins=300, color = 'orange', \n",
    "             hist_kws={'edgecolor':'orange',\"alpha\": 0.1},\n",
    "             kde_kws={'linewidth': 2},\n",
    "             label='NASA Team')\n",
    "\n",
    "# Add labels\n",
    "plt.title('Histogram Tuned')\n",
    "plt.ylabel('Frequency of occurence')\n",
    "plt.xlabel('Brightness temperature [K]')\n",
    "plt.xlim(150,275)\n",
    "plt.legend()\n",
    "#plt.savefig(plot_path+'density_distrib_tuned.pdf',bbox_inches='tight',dpi=250)"
   ]
  },
  {
   "cell_type": "markdown",
   "metadata": {},
   "source": [
    "PLOT FIGURE A1a"
   ]
  },
  {
   "cell_type": "code",
   "execution_count": null,
   "metadata": {},
   "outputs": [],
   "source": [
    "# prepare the distributions\n",
    "y = TB_obs.where(TBV_mod_SICCI>0).values.flatten()\n",
    "mask = ~np.isnan(y)\n",
    "y2 = TBV_mod_SICCI_ut.values.flatten()\n",
    "mask2 = ~np.isnan(y2)\n",
    "y3 = TBV_mod_BT_ut.values.flatten()\n",
    "mask3 = ~np.isnan(y3)\n",
    "y4 = TBV_mod_NT_ut.values.flatten()\n",
    "mask4 = ~np.isnan(y4)\n",
    "\n",
    "plt.figure(figsize=(8.27/2,8.27/2))\n",
    "sns.distplot(y[mask], hist=True, kde=True, \n",
    "             bins=300, color = 'black', \n",
    "             hist_kws={'edgecolor':'black',\"alpha\": 0.1},\n",
    "             kde_kws={'linewidth': 2},\n",
    "             label='Observations')\n",
    "sns.distplot(y2[mask2], hist=True, kde=True, \n",
    "             bins=300, color = 'magenta', \n",
    "             hist_kws={'edgecolor':'magenta',\"alpha\": 0.1},\n",
    "             kde_kws={'linewidth': 2},\n",
    "             label='SICCI2')\n",
    "sns.distplot(y3[mask3], hist=True, kde=True, \n",
    "             bins=300, color = 'red', \n",
    "             hist_kws={'edgecolor':'red',\"alpha\": 0.1},\n",
    "             kde_kws={'linewidth': 2},\n",
    "             label='Bootstrap')\n",
    "sns.distplot(y4[mask4], hist=True, kde=True, \n",
    "             bins=300, color = 'orange', \n",
    "             hist_kws={'edgecolor':'orange',\"alpha\": 0.1},\n",
    "             kde_kws={'linewidth': 2},\n",
    "             label='NASA Team')\n",
    "\n",
    "# Add labels\n",
    "plt.title('Histogram Untuned')\n",
    "plt.ylabel('Frequency of occurence')\n",
    "plt.xlabel('Brightness temperature [K]')\n",
    "plt.xlim(150,275)\n",
    "plt.legend()\n",
    "#plt.savefig(plot_path+'density_distrib_untuned.pdf',bbox_inches='tight',dpi=250)"
   ]
  },
  {
   "cell_type": "code",
   "execution_count": null,
   "metadata": {},
   "outputs": [],
   "source": []
  }
 ],
 "metadata": {
  "kernelspec": {
   "display_name": "Python 3",
   "language": "python",
   "name": "python3"
  },
  "language_info": {
   "codemirror_mode": {
    "name": "ipython",
    "version": 3
   },
   "file_extension": ".py",
   "mimetype": "text/x-python",
   "name": "python",
   "nbconvert_exporter": "python",
   "pygments_lexer": "ipython3",
   "version": "3.7.4"
  }
 },
 "nbformat": 4,
 "nbformat_minor": 2
}
