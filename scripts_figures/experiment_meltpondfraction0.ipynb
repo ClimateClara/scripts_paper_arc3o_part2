{
 "cells": [
  {
   "cell_type": "markdown",
   "metadata": {},
   "source": [
    "Created on Fri Feb 08 17:20 2019\n",
    "\n",
    "Script to run the sensitivity experiment behind Figure 9: set melt ponds to 0\n",
    "   * SICCI2: 20190209-1546\n",
    "   * Bootstrap: 20190209-1549\n",
    "   * NASA Team: 20190209-1552\n",
    "\n",
    "@author: Clara Burgard"
   ]
  },
  {
   "cell_type": "code",
   "execution_count": null,
   "metadata": {},
   "outputs": [],
   "source": [
    "import xarray as xr\n",
    "from pathos.multiprocessing import ProcessingPool as Pool\n",
    "import numpy as np"
   ]
  },
  {
   "cell_type": "code",
   "execution_count": null,
   "metadata": {},
   "outputs": [],
   "source": [
    "import sys\n",
    "sys.path.append('./arc3o')\n",
    "import core_functions as arc3o\n",
    "import arc3o_analysis_functions as sana"
   ]
  },
  {
   "cell_type": "code",
   "execution_count": null,
   "metadata": {},
   "outputs": [],
   "source": [
    "outputpath0 = '/work/mh0033/m300411/SatSim/WORK_DATA/simulated_TBs/'"
   ]
  },
  {
   "cell_type": "code",
   "execution_count": null,
   "metadata": {},
   "outputs": [],
   "source": [
    "## SICCI2\n",
    "inputpath = '/work/mh0033/m300411/SatSim/WORK_DATA/assimilation_runs/assim_SICCI2_50km/'\n",
    "inputpath0 = '/work/mh0033/m300411/SatSim/WORK_DATA/assimilation_runs/assim_SICCI2_50km_mergetime/'\n",
    "outputpath = arc3o.new_outputpath('no',outputpath0,'20190209-1546')\n",
    "\n",
    "orig_data = xr.open_dataset(inputpath0+'assim_SICCI2_50km_echam6_200211-200812_selcode_Arctic.nc')\n",
    "\n",
    "orig_data['ameltfrac'] = orig_data['ameltfrac'].where(orig_data['ameltfrac']==0,0)\n",
    "\n",
    "orig_data.to_netcdf(outputpath+'input_data/assim_SICCI2_50km_echam6_200211-200812_selcode_Arctic_mpf0.nc','w')"
   ]
  },
  {
   "cell_type": "code",
   "execution_count": null,
   "metadata": {},
   "outputs": [],
   "source": [
    "#RUN the SICCI part in 'mpf0_prepare_files.sh' before continuing"
   ]
  },
  {
   "cell_type": "code",
   "execution_count": null,
   "metadata": {},
   "outputs": [],
   "source": [
    "start_year = 2004\n",
    "end_year = 2008\n",
    "\n",
    "file_begin = 'assim_SICCI2_50km_echam6_'\n",
    "file_end = '_selcode_Arctic_mpf0.nc'\n",
    "\n",
    "freq_of_int = 6.9\n",
    "\n",
    "info_ds = xr.open_dataset(outputpath+'period_masks_assim.nc')\n",
    "\n",
    "def compute_parallel_JAS(start_year,end_year,freq_of_int,e_bias_fyi,e_bias_myi,snow_emis,snow_dens,inputpath,outputpath,file_begin,file_end,info_ds,write_profiles,compute_memls):\n",
    "    for year in range(start_year,end_year+1):\n",
    "        def f(mm):\n",
    "            yy = year\n",
    "            print('-------------'+str(mm).zfill(2)+'/'+str(yy)+'-------------------')\n",
    "            file = inputpath+file_begin+str(yy)+str(mm).zfill(2)+file_end\n",
    "            print(file)\n",
    "            arc3o.satsim_loop(file,yy,mm,info_ds,freq_of_int,e_bias_fyi,e_bias_myi,outputpath,write_profiles,compute_memls,snow_emis,snow_dens)\n",
    "            return \n",
    "\n",
    "        p = Pool(3)\n",
    "        p.map(f, np.arange(7,10))\n",
    "        \n",
    "compute_parallel_JAS(start_year,end_year,freq_of_int,0.968,0.968,1,300.,outputpath+'input_data/',outputpath,file_begin,file_end,info_ds,'yes','yes')"
   ]
  },
  {
   "cell_type": "code",
   "execution_count": null,
   "metadata": {},
   "outputs": [],
   "source": [
    "## Bootstrap\n",
    "inputpath = '/work/mh0033/m300411/SatSim/WORK_DATA/assimilation_runs/assim_Bootstrap/'\n",
    "inputpath0 = '/work/mh0033/m300411/SatSim/WORK_DATA/assimilation_runs/assim_Bootstrap_mergetime/'\n",
    "outputpath = arc3o.new_outputpath('no',outputpath0,'20190209-1549')\n",
    "\n",
    "orig_data = xr.open_dataset(inputpath0+'assim_Bootstrap_echam6_200201-200812_selcode_Arctic.nc')\n",
    "\n",
    "orig_data['ameltfrac'] = orig_data['ameltfrac'].where(orig_data['ameltfrac']==0,0)\n",
    "orig_data.to_netcdf(outputpath+'input_data/assim_Bootstrap_echam6_200211-200812_selcode_Arctic_mpf0.nc','w')"
   ]
  },
  {
   "cell_type": "code",
   "execution_count": null,
   "metadata": {},
   "outputs": [],
   "source": [
    "#RUN the Bootstrap part in 'mpf0_prepare_files.sh' before continuing"
   ]
  },
  {
   "cell_type": "code",
   "execution_count": null,
   "metadata": {},
   "outputs": [],
   "source": [
    "start_year = 2004\n",
    "end_year = 2008\n",
    "\n",
    "file_begin = 'assim_Bootstrap_echam6_'\n",
    "file_end = '_selcode_Arctic_mpf0.nc'\n",
    "\n",
    "freq_of_int = 6.9\n",
    "\n",
    "info_ds = xr.open_dataset(outputpath+'period_masks_assim.nc')\n",
    "\n",
    "def compute_parallel_JAS(start_year,end_year,freq_of_int,e_bias_fyi,e_bias_myi,snow_emis,snow_dens,inputpath,outputpath,file_begin,file_end,info_ds,write_profiles,compute_memls):\n",
    "    for year in range(start_year,end_year+1):\n",
    "        def f(mm):\n",
    "            yy = year\n",
    "            print('-------------'+str(mm).zfill(2)+'/'+str(yy)+'-------------------')\n",
    "            file = inputpath+file_begin+str(yy)+str(mm).zfill(2)+file_end\n",
    "            print(file)\n",
    "            arc3o.satsim_loop(file,yy,mm,info_ds,freq_of_int,e_bias_fyi,e_bias_myi,outputpath,write_profiles,compute_memls,snow_emis,snow_dens)\n",
    "            return \n",
    "\n",
    "        p = Pool(3)\n",
    "        p.map(f, np.arange(7,10))\n",
    "        \n",
    "compute_parallel_JAS(start_year,end_year,freq_of_int,0.968,0.968,1,300.,outputpath+'input_data/',outputpath,file_begin,file_end,info_ds,'yes','yes')"
   ]
  },
  {
   "cell_type": "code",
   "execution_count": null,
   "metadata": {},
   "outputs": [],
   "source": [
    "## NASA-Team\n",
    "inputpath = '/work/mh0033/m300411/SatSim/WORK_DATA/assimilation_runs/assim_NASATeam/'\n",
    "inputpath0 = '/work/mh0033/m300411/SatSim/WORK_DATA/assimilation_runs/assim_NASATeam_mergetime/'\n",
    "outputpath = arc3o.new_outputpath('no',outputpath0,'20190209-1552')\n",
    "\n",
    "orig_data = xr.open_dataset(inputpath0+'assim_NASATeam_echam6_200201-200812_selcode_Arctic.nc')\n",
    "\n",
    "orig_data['ameltfrac'] = orig_data['ameltfrac'].where(orig_data['ameltfrac']==0,0)\n",
    "orig_data.to_netcdf(outputpath+'input_data/assim_NASATeam_echam6_200211-200812_selcode_Arctic_mpf0.nc','w')\n"
   ]
  },
  {
   "cell_type": "code",
   "execution_count": null,
   "metadata": {},
   "outputs": [],
   "source": [
    "#RUN the NASA Team part in 'mpf0_prepare_files.sh' before continuing"
   ]
  },
  {
   "cell_type": "code",
   "execution_count": null,
   "metadata": {},
   "outputs": [],
   "source": [
    "start_year = 2004\n",
    "end_year = 2008\n",
    "\n",
    "file_begin = 'assim_NASATeam_echam6_'\n",
    "file_end = '_selcode_Arctic_mpf0.nc'\n",
    "\n",
    "freq_of_int = 6.9\n",
    "\n",
    "info_ds = xr.open_dataset(outputpath+'period_masks_assim.nc')\n",
    "\n",
    "def compute_parallel_JAS(start_year,end_year,freq_of_int,e_bias_fyi,e_bias_myi,snow_emis,snow_dens,inputpath,outputpath,file_begin,file_end,info_ds,write_profiles,compute_memls):\n",
    "    for year in range(start_year,end_year+1):\n",
    "        def f(mm):\n",
    "            yy = year\n",
    "            print('-------------'+str(mm).zfill(2)+'/'+str(yy)+'-------------------')\n",
    "            file = inputpath+file_begin+str(yy)+str(mm).zfill(2)+file_end\n",
    "            print(file)\n",
    "            arc3o.satsim_loop(file,yy,mm,info_ds,freq_of_int,e_bias_fyi,e_bias_myi,outputpath,write_profiles,compute_memls,snow_emis,snow_dens)\n",
    "            return \n",
    "\n",
    "        p = Pool(3)\n",
    "        p.map(f, np.arange(7,10))\n",
    "        \n",
    "compute_parallel_JAS(start_year,end_year,freq_of_int,0.968,0.968,1,300.,outputpath+'input_data/',outputpath,file_begin,file_end,info_ds,'yes','yes')"
   ]
  }
 ],
 "metadata": {
  "kernelspec": {
   "display_name": "Python 3",
   "language": "python",
   "name": "python3"
  },
  "language_info": {
   "codemirror_mode": {
    "name": "ipython",
    "version": 3
   },
   "file_extension": ".py",
   "mimetype": "text/x-python",
   "name": "python",
   "nbconvert_exporter": "python",
   "pygments_lexer": "ipython3",
   "version": "3.7.4"
  }
 },
 "nbformat": 4,
 "nbformat_minor": 2
}
