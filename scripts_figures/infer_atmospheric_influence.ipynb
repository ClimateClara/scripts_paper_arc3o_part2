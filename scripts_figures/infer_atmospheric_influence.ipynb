{
 "cells": [
  {
   "cell_type": "markdown",
   "metadata": {},
   "source": [
    "Created on Thu Jan 24 16:50 2019\n",
    "\n",
    "find the mean atmospheric effect on brightness temperature over sea ice in summer, to remove it from constant inferred in Figure 2\n",
    "\n",
    "mask all SIC above 0.95 to 1.0 : 20190125-1448\n",
    "\n",
    "@author: Clara Burgard"
   ]
  },
  {
   "cell_type": "code",
   "execution_count": null,
   "metadata": {},
   "outputs": [],
   "source": [
    "import xarray as xr\n",
    "import numpy as np"
   ]
  },
  {
   "cell_type": "code",
   "execution_count": null,
   "metadata": {},
   "outputs": [],
   "source": [
    "import sys\n",
    "sys.path.append('./arc3o')\n",
    "import core_functions as arc3o\n",
    "import arc3o_analysis_functions as sana"
   ]
  },
  {
   "cell_type": "markdown",
   "metadata": {},
   "source": [
    "READ IN THE DATA"
   ]
  },
  {
   "cell_type": "code",
   "execution_count": null,
   "metadata": {},
   "outputs": [],
   "source": [
    "inputpath = '/work/mh0033/m300411/SatSim/WORK_DATA/assimilation_runs/assim_SICCI2_50km/'\n",
    "inputpath0 = '/work/mh0033/m300411/SatSim/WORK_DATA/assimilation_runs/assim_SICCI2_50km_mergetime/'\n",
    "outputpath0 = '/work/mh0033/m300411/SatSim/WORK_DATA/simulated_TBs/'"
   ]
  },
  {
   "cell_type": "code",
   "execution_count": null,
   "metadata": {},
   "outputs": [],
   "source": [
    "outputpath = arc3o.new_outputpath('no',outputpath0,'20190125-1448')"
   ]
  },
  {
   "cell_type": "code",
   "execution_count": null,
   "metadata": {},
   "outputs": [],
   "source": [
    "orig_data = xr.open_dataset(inputpath0+'assim_SICCI2_50km_echam6_200211-200812_selcode_Arctic.nc')\n",
    "#write time in the right format\n",
    "orig_data = arc3o.prep_time(orig_data)"
   ]
  },
  {
   "cell_type": "markdown",
   "metadata": {},
   "source": [
    "PREPARE THE INPUT DATA FOR EXPERIMENT"
   ]
  },
  {
   "cell_type": "markdown",
   "metadata": {},
   "source": [
    "Set all melt pond fractions to zero to avoid their influence on the brightness temperature at the top of the atmosphere "
   ]
  },
  {
   "cell_type": "code",
   "execution_count": null,
   "metadata": {},
   "outputs": [],
   "source": [
    "orig_data['ameltfrac'] = orig_data['ameltfrac']*0"
   ]
  },
  {
   "cell_type": "markdown",
   "metadata": {},
   "source": [
    "Set all sea-ice concentration above 99% to 100% to avoid the influence of open ocean on the brightness temperature at the top of the atmosphere but to keep the atmospheric state near to a full sea-ice cover"
   ]
  },
  {
   "cell_type": "code",
   "execution_count": null,
   "metadata": {},
   "outputs": [],
   "source": [
    "orig_data['seaice'] = orig_data['seaice'].where(orig_data['seaice']<0.99,1.0)"
   ]
  },
  {
   "cell_type": "markdown",
   "metadata": {},
   "source": [
    "RUN ARC3O ON THIS MODIFIED DATA"
   ]
  },
  {
   "cell_type": "code",
   "execution_count": null,
   "metadata": {},
   "outputs": [],
   "source": [
    "start_year = 2003\n",
    "end_year = 2008\n",
    "\n",
    "file_begin = 'assim_SICCI2_50km_echam6_'\n",
    "file_end = '_selcode_Arctic.nc'\n",
    "\n",
    "freq_of_int = 6.9\n",
    "\n",
    "arc3o.satsim_complete_parallel(orig_data,freq_of_int,start_year,end_year,inputpath,outputpath,file_begin,file_end,write_mask='no',write_profiles='yes',compute_memls='yes',e_bias=0.968)"
   ]
  },
  {
   "cell_type": "markdown",
   "metadata": {},
   "source": [
    "CHECK RESULTS"
   ]
  },
  {
   "cell_type": "markdown",
   "metadata": {},
   "source": [
    "The processing of the data is done in 'infer_atmos_influence_analysis.sh', resulting in the files 'TBVtot-TBV_assim_2003-2008_7_only99_ymonmean_fldmean.nc' and 'TBVtot-TBV_assim_2003-2008_7_only99_ymonmean_fldstd.nc'."
   ]
  },
  {
   "cell_type": "code",
   "execution_count": null,
   "metadata": {},
   "outputs": [],
   "source": [
    "#### with the cdo files\n",
    "mean_atmo = xr.open_dataset(outputpath0+'20190125-1448/mergetime/TBVtot-TBV_assim_2003-2008_7_only99_ymonmean_fldmean.nc')\n",
    "std_atmo = xr.open_dataset(outputpath0+'20190125-1448/mergetime/TBVtot-TBV_assim_2003-2008_7_only99_ymonstd_fldstd.nc')\n",
    "mean_atmo_TBV = mean_atmo['TBV']\n",
    "std_atmo_TBV = std_atmo['TBV']\n",
    "\n",
    "for i in range(12):\n",
    "    print('Atmos effect '+str(i+1)+' = '+str(np.round(mean_atmo_TBV.isel(time=i).values,2))+'+/-'+str(np.round(std_atmo_TBV.isel(time=i).values,2)))\n",
    "    \n"
   ]
  },
  {
   "cell_type": "markdown",
   "metadata": {},
   "source": [
    "Mean over the months at which bare wet ice could in theory be present"
   ]
  },
  {
   "cell_type": "code",
   "execution_count": null,
   "metadata": {},
   "outputs": [],
   "source": [
    "mean_atmo_TBV.isel(time=[5,6,7,8]).mean()"
   ]
  }
 ],
 "metadata": {
  "kernelspec": {
   "display_name": "Python 3",
   "language": "python",
   "name": "python3"
  },
  "language_info": {
   "codemirror_mode": {
    "name": "ipython",
    "version": 3
   },
   "file_extension": ".py",
   "mimetype": "text/x-python",
   "name": "python",
   "nbconvert_exporter": "python",
   "pygments_lexer": "ipython3",
   "version": "3.7.4"
  }
 },
 "nbformat": 4,
 "nbformat_minor": 2
}
