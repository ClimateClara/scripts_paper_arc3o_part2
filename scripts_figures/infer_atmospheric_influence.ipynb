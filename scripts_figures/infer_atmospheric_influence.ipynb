{
 "cells": [
  {
   "cell_type": "markdown",
   "metadata": {},
   "source": [
    "Created on Thu Jan 24 16:50 2019\n",
    "\n",
    "find the mean atmospheric effect on brightness temperature over sea ice in summer, to remove it from constant inferred in Figure 2\n",
    "\n",
    "mask all SIC above 0.95 to 1.0 : 20190125-1448\n",
    "\n",
    "@author: Clara Burgard"
   ]
  },
  {
   "cell_type": "code",
   "execution_count": 10,
   "metadata": {},
   "outputs": [],
   "source": [
    "import xarray as xr\n",
    "import numpy as np"
   ]
  },
  {
   "cell_type": "code",
   "execution_count": null,
   "metadata": {},
   "outputs": [],
   "source": [
    "import sys\n",
    "sys.path.append('./arc3o')\n",
    "import core_functions as arc3o\n",
    "import arc3o_analysis_functions as sana"
   ]
  },
  {
   "cell_type": "markdown",
   "metadata": {},
   "source": [
    "READ IN THE DATA"
   ]
  },
  {
   "cell_type": "code",
   "execution_count": 11,
   "metadata": {},
   "outputs": [],
   "source": [
    "inputpath = '/work/mh0033/m300411/SatSim/WORK_DATA/assimilation_runs/assim_SICCI2_50km/'\n",
    "inputpath0 = '/work/mh0033/m300411/SatSim/WORK_DATA/assimilation_runs/assim_SICCI2_50km_mergetime/'\n",
    "outputpath0 = '/work/mh0033/m300411/SatSim/WORK_DATA/simulated_TBs/'"
   ]
  },
  {
   "cell_type": "code",
   "execution_count": 12,
   "metadata": {},
   "outputs": [
    {
     "name": "stdout",
     "output_type": "stream",
     "text": [
      "output directory stays /work/mh0033/m300411/SatSim/SatSim2D/workflow_test/20190125-1448/\n"
     ]
    }
   ],
   "source": [
    "outputpath = arc3o.new_outputpath('no',outputpath0,'20190125-1448')"
   ]
  },
  {
   "cell_type": "code",
   "execution_count": 13,
   "metadata": {},
   "outputs": [],
   "source": [
    "orig_data = xr.open_dataset(inputpath0+'assim_SICCI2_50km_echam6_200211-200812_selcode_Arctic.nc')\n",
    "#write time in the right format\n",
    "orig_data = arc3o.prep_time(orig_data)"
   ]
  },
  {
   "cell_type": "markdown",
   "metadata": {},
   "source": [
    "PREPARE THE INPUT DATA FOR EXPERIMENT"
   ]
  },
  {
   "cell_type": "markdown",
   "metadata": {},
   "source": [
    "Set all melt pond fractions to zero to avoid their influence on the brightness temperature at the top of the atmosphere "
   ]
  },
  {
   "cell_type": "code",
   "execution_count": 6,
   "metadata": {},
   "outputs": [],
   "source": [
    "orig_data['ameltfrac'] = orig_data['ameltfrac']*0"
   ]
  },
  {
   "cell_type": "markdown",
   "metadata": {},
   "source": [
    "Set all sea-ice concentration above 99% to 100% to avoid the influence of open ocean on the brightness temperature at the top of the atmosphere but to keep the atmospheric state near to a full sea-ice cover"
   ]
  },
  {
   "cell_type": "code",
   "execution_count": null,
   "metadata": {},
   "outputs": [],
   "source": [
    "orig_data['seaice'] = orig_data['seaice'].where(orig_data['seaice']<0.99,1.0)"
   ]
  },
  {
   "cell_type": "markdown",
   "metadata": {},
   "source": [
    "RUN ARC3O ON THIS MODIFIED DATA"
   ]
  },
  {
   "cell_type": "code",
   "execution_count": 36,
   "metadata": {},
   "outputs": [
    {
     "ename": "AttributeError",
     "evalue": "module 'arc3o' has no attribute 'satsim_complete_parallel'",
     "output_type": "error",
     "traceback": [
      "\u001b[0;31m---------------------------------------------------------------------------\u001b[0m",
      "\u001b[0;31mAttributeError\u001b[0m                            Traceback (most recent call last)",
      "\u001b[0;32m<ipython-input-36-220ec0faaa0f>\u001b[0m in \u001b[0;36m<module>\u001b[0;34m\u001b[0m\n\u001b[1;32m      7\u001b[0m \u001b[0mfreq_of_int\u001b[0m \u001b[0;34m=\u001b[0m \u001b[0;36m6.9\u001b[0m\u001b[0;34m\u001b[0m\u001b[0;34m\u001b[0m\u001b[0m\n\u001b[1;32m      8\u001b[0m \u001b[0;34m\u001b[0m\u001b[0m\n\u001b[0;32m----> 9\u001b[0;31m \u001b[0marc3o\u001b[0m\u001b[0;34m.\u001b[0m\u001b[0msatsim_complete_parallel\u001b[0m\u001b[0;34m(\u001b[0m\u001b[0morig_data\u001b[0m\u001b[0;34m,\u001b[0m\u001b[0mfreq_of_int\u001b[0m\u001b[0;34m,\u001b[0m\u001b[0mstart_year\u001b[0m\u001b[0;34m,\u001b[0m\u001b[0mend_year\u001b[0m\u001b[0;34m,\u001b[0m\u001b[0minputpath\u001b[0m\u001b[0;34m,\u001b[0m\u001b[0moutputpath\u001b[0m\u001b[0;34m,\u001b[0m\u001b[0mfile_begin\u001b[0m\u001b[0;34m,\u001b[0m\u001b[0mfile_end\u001b[0m\u001b[0;34m,\u001b[0m\u001b[0mwrite_mask\u001b[0m\u001b[0;34m=\u001b[0m\u001b[0;34m'no'\u001b[0m\u001b[0;34m,\u001b[0m\u001b[0mwrite_profiles\u001b[0m\u001b[0;34m=\u001b[0m\u001b[0;34m'yes'\u001b[0m\u001b[0;34m,\u001b[0m\u001b[0mcompute_memls\u001b[0m\u001b[0;34m=\u001b[0m\u001b[0;34m'yes'\u001b[0m\u001b[0;34m,\u001b[0m\u001b[0me_bias\u001b[0m\u001b[0;34m=\u001b[0m\u001b[0;36m0.968\u001b[0m\u001b[0;34m)\u001b[0m\u001b[0;34m\u001b[0m\u001b[0;34m\u001b[0m\u001b[0m\n\u001b[0m",
      "\u001b[0;31mAttributeError\u001b[0m: module 'arc3o' has no attribute 'satsim_complete_parallel'"
     ]
    }
   ],
   "source": [
    "start_year = 2003\n",
    "end_year = 2008\n",
    "\n",
    "file_begin = 'assim_SICCI2_50km_echam6_'\n",
    "file_end = '_selcode_Arctic.nc'\n",
    "\n",
    "freq_of_int = 6.9\n",
    "\n",
    "arc3o.satsim_complete_parallel(orig_data,freq_of_int,start_year,end_year,inputpath,outputpath,file_begin,file_end,write_mask='no',write_profiles='yes',compute_memls='yes',e_bias=0.968)"
   ]
  },
  {
   "cell_type": "markdown",
   "metadata": {},
   "source": [
    "CHECK RESULTS"
   ]
  },
  {
   "cell_type": "markdown",
   "metadata": {},
   "source": [
    "The processing of the data is done in 'infer_atmos_influence_analysis.sh', resulting in the files 'TBVtot-TBV_assim_2003-2008_7_only99_ymonmean_fldmean.nc' and 'TBVtot-TBV_assim_2003-2008_7_only99_ymonmean_fldstd.nc'."
   ]
  },
  {
   "cell_type": "code",
   "execution_count": 32,
   "metadata": {},
   "outputs": [
    {
     "name": "stdout",
     "output_type": "stream",
     "text": [
      "Atmos effect 1 = [[-2.96]]+/-[[4.78]]\n",
      "Atmos effect 2 = [[-3.1]]+/-[[3.61]]\n",
      "Atmos effect 3 = [[-2.2]]+/-[[1.58]]\n",
      "Atmos effect 4 = [[-2.27]]+/-[[3.65]]\n",
      "Atmos effect 5 = [[-3.66]]+/-[[3.76]]\n",
      "Atmos effect 6 = [[-4.16]]+/-[[1.82]]\n",
      "Atmos effect 7 = [[-5.59]]+/-[[0.23]]\n",
      "Atmos effect 8 = [[-3.39]]+/-[[0.89]]\n",
      "Atmos effect 9 = [[-4.82]]+/-[[0.96]]\n",
      "Atmos effect 10 = [[-8.71]]+/-[[6.67]]\n",
      "Atmos effect 11 = [[-3.13]]+/-[[3.28]]\n",
      "Atmos effect 12 = [[-3.36]]+/-[[3.76]]\n"
     ]
    }
   ],
   "source": [
    "#### with the cdo files\n",
    "mean_atmo = xr.open_dataset(outputpath0+'20190125-1448/mergetime/TBVtot-TBV_assim_2003-2008_7_only99_ymonmean_fldmean.nc')\n",
    "std_atmo = xr.open_dataset(outputpath0+'20190125-1448/mergetime/TBVtot-TBV_assim_2003-2008_7_only99_ymonstd_fldstd.nc')\n",
    "mean_atmo_TBV = mean_atmo['TBV']\n",
    "std_atmo_TBV = std_atmo['TBV']\n",
    "\n",
    "for i in range(12):\n",
    "    print('Atmos effect '+str(i+1)+' = '+str(np.round(mean_atmo_TBV.isel(time=i).values,2))+'+/-'+str(np.round(std_atmo_TBV.isel(time=i).values,2)))\n",
    "    \n"
   ]
  },
  {
   "cell_type": "markdown",
   "metadata": {},
   "source": [
    "Mean over the months at which bare wet ice could in theory be present"
   ]
  },
  {
   "cell_type": "code",
   "execution_count": 35,
   "metadata": {},
   "outputs": [
    {
     "data": {
      "text/plain": [
       "<xarray.DataArray 'TBV' ()>\n",
       "array(-4.48717327)"
      ]
     },
     "execution_count": 35,
     "metadata": {},
     "output_type": "execute_result"
    }
   ],
   "source": [
    "mean_atmo_TBV.isel(time=[5,6,7,8]).mean()"
   ]
  }
 ],
 "metadata": {
  "kernelspec": {
   "display_name": "Python 3",
   "language": "python",
   "name": "python3"
  },
  "language_info": {
   "codemirror_mode": {
    "name": "ipython",
    "version": 3
   },
   "file_extension": ".py",
   "mimetype": "text/x-python",
   "name": "python",
   "nbconvert_exporter": "python",
   "pygments_lexer": "ipython3",
   "version": "3.7.4"
  }
 },
 "nbformat": 4,
 "nbformat_minor": 2
}
