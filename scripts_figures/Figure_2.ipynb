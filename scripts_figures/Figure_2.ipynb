{
 "cells": [
  {
   "cell_type": "markdown",
   "metadata": {},
   "source": [
    "Created on Wed Jan 16 16:22 2019\n",
    "\n",
    "Infer an estimate of the summer bare ice surface brightness temperature\n",
    "\n",
    "@author: Clara Burgard"
   ]
  },
  {
   "cell_type": "code",
   "execution_count": null,
   "metadata": {},
   "outputs": [],
   "source": [
    "import numpy as np\n",
    "import pandas as pd\n",
    "import matplotlib.pyplot as plt\n",
    "import scipy.stats as stats\n",
    "import seaborn as sns"
   ]
  },
  {
   "cell_type": "code",
   "execution_count": null,
   "metadata": {},
   "outputs": [],
   "source": [
    "inputpath = '/work/mh0033/m300411/SatSim/WORK_DATA/observations/'\n",
    "plot_path = '/work/mh0033/m300411/SatSim/PLOTS/'"
   ]
  },
  {
   "cell_type": "markdown",
   "metadata": {},
   "source": [
    "READ IN RRDP DATA"
   ]
  },
  {
   "cell_type": "code",
   "execution_count": null,
   "metadata": {},
   "outputs": [],
   "source": [
    "data = pd.read_table(inputpath+'SMAP-vs-SMOS-vs-ASCAT-vs-AMSR-vs-ERA-vs-UB_MERIS_MPF_2011_cl005+001_75km_all_RRDB.text',header=1,delimiter=',')\n",
    "\n",
    "melt_ponds = data['MPF']\n",
    "TBV = data['6.9V']\n",
    "time = pd.to_datetime(data['time'])\n",
    "\n",
    "TBV[TBV=='  noval'] = np.nan\n",
    "TBV_new = pd.to_numeric(TBV.str.strip(), errors='coerce')"
   ]
  },
  {
   "cell_type": "markdown",
   "metadata": {},
   "source": [
    "PLOT FIGURE 2"
   ]
  },
  {
   "cell_type": "code",
   "execution_count": null,
   "metadata": {},
   "outputs": [],
   "source": [
    "sns.set_context('paper')\n",
    "plt.figure(figsize=(8.27/2,8.27/2))\n",
    "plt.scatter(melt_ponds[TBV_new>210].values,TBV_new[TBV_new>210].values,s=5,c='k',marker='o')\n",
    "plt.xlabel('Retrieved melt pond fraction')\n",
    "plt.ylabel('Observed brightness temperature [K]')\n",
    "plt.xlim(-0.01,0.5)\n",
    "#plt.axhline(y=262.29,xmin=0,xmax=0.4,c='grey',ls='--',linewidth=2)\n",
    "sns.despine()\n",
    "plt.tight_layout()\n",
    "#plt.savefig(plot_path+'Figure2.pdf',bbox_inches='tight')\n"
   ]
  },
  {
   "cell_type": "markdown",
   "metadata": {},
   "source": [
    "COMPUTE MEAN BRIGHTNESS TEMPERATURE FOR MELT POND FRACTIONS BELOW 0.2"
   ]
  },
  {
   "cell_type": "code",
   "execution_count": null,
   "metadata": {},
   "outputs": [],
   "source": [
    "print(TBV_new[(melt_ponds<0.2) & (TBV_new>210)].mean())\n",
    "print(TBV_new[(melt_ponds<0.2) & (TBV_new>210)].std())"
   ]
  }
 ],
 "metadata": {
  "kernelspec": {
   "display_name": "Python 3",
   "language": "python",
   "name": "python3"
  },
  "language_info": {
   "codemirror_mode": {
    "name": "ipython",
    "version": 3
   },
   "file_extension": ".py",
   "mimetype": "text/x-python",
   "name": "python",
   "nbconvert_exporter": "python",
   "pygments_lexer": "ipython3",
   "version": "3.7.4"
  }
 },
 "nbformat": 4,
 "nbformat_minor": 2
}
