{
 "cells": [
  {
   "cell_type": "markdown",
   "metadata": {},
   "source": [
    "Created on Mon Apr 15 16:14 2019\n",
    "\n",
    "This is the script to plot Figure 6 containing the uncertainty introduced by the data assimilation\n",
    "\n",
    "and to plot Figure 8, containing \n",
    "   * observation\n",
    "   * the mean minimal difference between simulation and observations\n",
    "   * the mean maximal difference between simulation and observations\n",
    "   * the difference in sea-ice concentration between BT and NT\n",
    "\n",
    "@author: Clara Burgard"
   ]
  },
  {
   "cell_type": "code",
   "execution_count": null,
   "metadata": {},
   "outputs": [],
   "source": [
    "import xarray as xr\n",
    "import matplotlib.pyplot as plt\n",
    "import numpy as np\n",
    "import os\n",
    "import matplotlib as mpl\n",
    "import cartopy\n",
    "import cartopy.crs as ccrs\n",
    "from cartopy.util import add_cyclic_point\n",
    "import cmocean\n",
    "import seaborn as sns"
   ]
  },
  {
   "cell_type": "code",
   "execution_count": null,
   "metadata": {},
   "outputs": [],
   "source": [
    "import sys\n",
    "sys.path.append('./arc3o')\n",
    "import core_functions as arc3o\n",
    "import arc3o_analysis_functions as sana"
   ]
  },
  {
   "cell_type": "code",
   "execution_count": null,
   "metadata": {},
   "outputs": [],
   "source": [
    "sns.set_context('paper')"
   ]
  },
  {
   "cell_type": "code",
   "execution_count": null,
   "metadata": {},
   "outputs": [],
   "source": [
    "obs_inputpath = '/work/mh0033/m300411/SatSim/WORK_DATA/observations/'\n",
    "orig_MPIESM_inputpath = '/work/mh0033/m300411/SatSim/WORK_DATA/assimilation_runs/'\n",
    "orig_SIC_inputpath = '/work/mh0033/m300411/SatSim/WORK_DATA/observations/'\n",
    "TB_inputpath = '/work/mh0033/m300411/SatSim/WORK_DATA/simulated_TBs/'\n",
    "plot_path = '/work/mh0033/m300411/SatSim/PLOTS/'"
   ]
  },
  {
   "cell_type": "markdown",
   "metadata": {},
   "source": [
    "READ IN THE DATA"
   ]
  },
  {
   "cell_type": "code",
   "execution_count": null,
   "metadata": {},
   "outputs": [],
   "source": [
    "obs = xr.open_dataset(os.path.abspath(obs_inputpath+'AMSRE_N25km_06V_E_2004-2008_modgrid_hole.nc'))\n",
    "\n",
    "lon = obs['lon']\n",
    "lat = obs['lat']\n",
    "\n",
    "orig_MPIESM_SICCI = xr.open_dataset(os.path.abspath(orig_MPIESM_inputpath+'assim_SICCI2_50km_mergetime/assim_SICCI2_50km_echam6_200401-200812_selcode_Arctic_dayavg_hole.nc'))\n",
    "orig_MPIESM_SICCI = arc3o.prep_time(orig_MPIESM_SICCI)\n",
    "orig_MPIESM_BT = xr.open_dataset(os.path.abspath(orig_MPIESM_inputpath+'assim_Bootstrap_mergetime/assim_Bootstrap_echam6_200401-200812_selcode_Arctic_dayavg_hole.nc'))\n",
    "orig_MPIESM_BT = arc3o.prep_time(orig_MPIESM_BT)\n",
    "orig_MPIESM_NT = xr.open_dataset(os.path.abspath(orig_MPIESM_inputpath+'assim_NASATeam_mergetime/assim_NASATeam_echam6_200401-200812_selcode_Arctic_dayavg_hole.nc'))\n",
    "orig_MPIESM_NT = arc3o.prep_time(orig_MPIESM_NT)\n",
    "\n",
    "lon = orig_MPIESM_SICCI['lon']\n",
    "lat = orig_MPIESM_SICCI['lat']\n",
    "\n",
    "orig_OBS_SICCI = xr.open_dataset(os.path.abspath(orig_SIC_inputpath+'SICCI2_SIC_AMSR_50.0kmEASE2-NH-2004-2008_modgrid_hole.nc'))\n",
    "orig_OBS_BTandNT = xr.open_dataset(os.path.abspath(orig_SIC_inputpath+'seaice_conc_daily_nh_2004-2008_v03r01_modgrid_hole.nc'))\n",
    "orig_OBS_BT = orig_OBS_BTandNT['goddard_bt_seaice_conc']\n",
    "orig_OBS_NT = orig_OBS_BTandNT['goddard_nt_seaice_conc']\n",
    "\n",
    "TB_mod_SICCI = xr.open_dataset(os.path.abspath(TB_inputpath+'20191112-1647/mergetime/TBtot_assim_2004-2008_7_dayavg_hole.nc'))\n",
    "TB_mod_NT = xr.open_dataset(os.path.abspath(TB_inputpath+'20191114-1221/mergetime/TBtot_assim_2004-2008_7_dayavg_hole.nc'))\n",
    "TB_mod_BT = xr.open_dataset(os.path.abspath(TB_inputpath+'20191114-1216/mergetime/TBtot_assim_2004-2008_7_dayavg_hole.nc'))\n"
   ]
  },
  {
   "cell_type": "markdown",
   "metadata": {},
   "source": [
    "Make sure the data are on the \"same\" page"
   ]
  },
  {
   "cell_type": "code",
   "execution_count": null,
   "metadata": {},
   "outputs": [],
   "source": [
    "TB_obs = obs['TB']\n",
    "\n",
    "orig_MPIESM_SICCI['time'] = orig_MPIESM_SICCI.indexes['time'].round('D')\n",
    "orig_MPIESM_BT['time'] = orig_MPIESM_BT.indexes['time'].round('D')\n",
    "orig_MPIESM_NT['time'] = orig_MPIESM_NT.indexes['time'].round('D')\n",
    "\n",
    "TB_mod_SICCI['time'] = TB_mod_SICCI.indexes['time'].round('D')\n",
    "TB_mod_BT['time'] = TB_mod_BT.indexes['time'].round('D')\n",
    "TB_mod_NT['time'] = TB_mod_NT.indexes['time'].round('D')\n",
    "\n",
    "orig_OBS_SICCI = orig_OBS_SICCI.resample(time='1D').mean()\n",
    "sic_obs_SICCI = orig_OBS_SICCI['ice_conc'].sel(time=TB_obs.time)/100.\n",
    "sic_obs_BT = orig_OBS_BT.sel(time=TB_obs.time)\n",
    "sic_obs_NT = orig_OBS_NT.sel(time=TB_obs.time)\n",
    "\n",
    "\n",
    "sic_mod_SICCI = orig_MPIESM_SICCI['seaice'].sel(time=TB_obs.time)\n",
    "sic_mod_BT = orig_MPIESM_BT['seaice'].sel(time=TB_obs.time)\n",
    "sic_mod_NT = orig_MPIESM_NT['seaice'].sel(time=TB_obs.time)\n",
    "\n",
    "TBV_mod_SICCI = TB_mod_SICCI['TBV'].sel(time=TB_obs.time)\n",
    "TBV_mod_BT = TB_mod_BT['TBV'].sel(time=TB_obs.time)\n",
    "TBV_mod_NT = TB_mod_NT['TBV'].sel(time=TB_obs.time)"
   ]
  },
  {
   "cell_type": "markdown",
   "metadata": {},
   "source": [
    "COMPUTE UNCERTAINTIES"
   ]
  },
  {
   "cell_type": "markdown",
   "metadata": {},
   "source": [
    "Compute uncertainty introduced by the data assimilation (to remove it from our uncertainty estimate)"
   ]
  },
  {
   "cell_type": "code",
   "execution_count": null,
   "metadata": {},
   "outputs": [],
   "source": [
    "assim_diff_SICCI = (sic_mod_SICCI - sic_obs_SICCI)*100\n",
    "assim_diff_BT = (sic_mod_BT - sic_obs_BT)*100\n",
    "assim_diff_NT = (sic_mod_NT - sic_obs_NT)*100"
   ]
  },
  {
   "cell_type": "markdown",
   "metadata": {},
   "source": [
    "Compute difference between simulated and observed brightness temperature (with uncertainty from data assimilation removed)"
   ]
  },
  {
   "cell_type": "code",
   "execution_count": null,
   "metadata": {},
   "outputs": [],
   "source": [
    "TB_diff_SICCI = TBV_mod_SICCI - assim_diff_SICCI - TB_obs\n",
    "TB_diff_BT = TBV_mod_BT - assim_diff_BT - TB_obs\n",
    "TB_diff_NT = TBV_mod_NT - assim_diff_NT - TB_obs"
   ]
  },
  {
   "cell_type": "markdown",
   "metadata": {},
   "source": [
    "For each point in time and space, from the three sets of simulated brightness temperatures, find the minimum and maximum difference between simulated and observed brightness temperature"
   ]
  },
  {
   "cell_type": "code",
   "execution_count": null,
   "metadata": {},
   "outputs": [],
   "source": [
    "# create an ensemble with the three runs (products)\n",
    "TB_diff = xr.concat([TB_diff_SICCI,TB_diff_BT,TB_diff_NT],'product')\n",
    "TB_diff['product'] = range(1,4)\n",
    "\n",
    "# find the run with the maximum of the ensemble\n",
    "max_field_abs = TB_diff['product'].where(abs(TB_diff) == abs(TB_diff).max('product'),0).sum('product')\n",
    "# find the run with the minimum of the ensemble\n",
    "min_field_abs = TB_diff['product'].where(abs(TB_diff) == abs(TB_diff).min('product'),0).sum('product')\n",
    "\n",
    "# only keep the run with the maximum/minimum of the ensemble and get rid of the 'product' dimension\n",
    "max_field_abs = max_field_abs.where(max_field_abs!=0,1)\n",
    "min_field_abs = min_field_abs.where(min_field_abs!=0,1)\n",
    "\n",
    "# read out the values\n",
    "max_field = TB_diff.sel(product=max_field_abs)\n",
    "min_field = TB_diff.sel(product=min_field_abs)\n",
    "\n",
    "min0 = min_field.where(TB_diff.prod(dim='product')>0,0)\n",
    "max0 = max_field.where(TB_diff.prod(dim='product')>0,0)\n"
   ]
  },
  {
   "cell_type": "markdown",
   "metadata": {},
   "source": [
    "Compute difference between NT and BT sea-ice concentration"
   ]
  },
  {
   "cell_type": "code",
   "execution_count": null,
   "metadata": {},
   "outputs": [],
   "source": [
    "diff_sic_nt_bt = sic_mod_NT - sic_mod_BT "
   ]
  },
  {
   "cell_type": "markdown",
   "metadata": {},
   "source": [
    "PLOT FIGURE 6 "
   ]
  },
  {
   "cell_type": "code",
   "execution_count": null,
   "metadata": {},
   "outputs": [],
   "source": [
    "def map_npstereo_compare3_coldseasons(lon,lat,assimdiff_sicci,assimdiff_bt,assimdiff_nt,legend='yes',name='TBV',lat_lim=45,vmin=160,vmax=270,vmindiff=-10,vmaxdiff=10):\n",
    "\n",
    "    f = plt.figure(figsize=(8, 10))\n",
    "    #f = plt.figure()\n",
    "    #f.suptitle(str(time_in.values)[0:16],fontsize=22)\n",
    "\n",
    "    theta = np.linspace(0, 2*np.pi, 100)\n",
    "    center, radius = [0.5, 0.5], 0.5\n",
    "    verts = np.vstack([np.sin(theta), np.cos(theta)]).T\n",
    "    circle = mpl.path.Path(verts * radius + center)     \n",
    "    \n",
    "    lon = obs['lon']\n",
    "    lat = obs['lat']\n",
    "    \n",
    "    wrap_obs = np.zeros((3,len(lat),len(lon)+1))\n",
    "    wrap_mindiff = np.zeros((3,len(lat),len(lon)+1))\n",
    "    wrap_maxdiff = np.zeros((3,len(lat),len(lon)+1))\n",
    "    wrap_sic_diff = np.zeros((3,len(lat),len(lon)+1))\n",
    "    \n",
    "    for n in range(3):\n",
    "        if n == 0:\n",
    "            time_of_int = obs['time'].sel(time=sana.is_JFM(obs['time.month']))\n",
    "        elif n == 1:\n",
    "            time_of_int = obs['time'].sel(time=sana.is_AMJ(obs['time.month']))\n",
    "        elif n == 2:\n",
    "            time_of_int = obs['time'].sel(time=sana.is_OND(obs['time.month']))\n",
    "    \n",
    "        wrap_obs[n,:,:], wrap_lon = add_cyclic_point(assimdiff_sicci.sel(time=time_of_int).mean('time').values,coord=lon,axis=1)\n",
    "        wrap_mindiff[n,:,:], wrap_lon = add_cyclic_point(assimdiff_bt.sel(time=time_of_int).mean('time').values,coord=lon,axis=1)\n",
    "        wrap_maxdiff[n,:,:], wrap_lon = add_cyclic_point(assimdiff_nt.sel(time=time_of_int).mean('time').values,coord=lon,axis=1)\n",
    "    \n",
    "    ax1 = plt.subplot(3, 3, 1, projection=ccrs.NorthPolarStereo(central_longitude=0))\n",
    "    ax1.coastlines(resolution='110m', linewidth=0.5)\n",
    "    abso0 = ax1.pcolormesh(wrap_lon,lat,wrap_obs[0,:,:],transform=ccrs.PlateCarree(),vmax=vmaxdiff,vmin=vmindiff,cmap=mpl.cm.coolwarm,rasterized=True)\n",
    "    ax1.set_extent([-180, 180, lat_lim, 90], crs=ccrs.PlateCarree())\n",
    "    ax1.add_feature(cartopy.feature.LAND, zorder=100, edgecolor='black')\n",
    "    ax1.set_boundary(circle, transform=ax1.transAxes)\n",
    "\n",
    "    ax2 = plt.subplot(3, 3, 2, projection=ccrs.NorthPolarStereo(central_longitude=0))\n",
    "    ax2.coastlines(resolution='110m', linewidth=0.5)\n",
    "    abso = ax2.pcolormesh(wrap_lon,lat,wrap_obs[1,:,:],transform=ccrs.PlateCarree(),vmax=vmaxdiff,vmin=vmindiff,cmap=mpl.cm.coolwarm,rasterized=True)\n",
    "    ax2.set_extent([-180, 180, lat_lim, 90], crs=ccrs.PlateCarree())\n",
    "    ax2.add_feature(cartopy.feature.LAND, zorder=100, edgecolor='black')\n",
    "    ax2.set_boundary(circle, transform=ax2.transAxes)\n",
    "\n",
    "        \n",
    "    ax4 = plt.subplot(3, 3, 3, projection=ccrs.NorthPolarStereo(central_longitude=0))\n",
    "    ax4.coastlines(resolution='110m', linewidth=0.5)\n",
    "    abso0 = ax4.pcolormesh(wrap_lon,lat,wrap_obs[2,:,:],transform=ccrs.PlateCarree(),vmax=vmaxdiff,vmin=vmindiff,cmap=mpl.cm.coolwarm,rasterized=True)\n",
    "    ax4.set_extent([-180, 180, lat_lim, 90], crs=ccrs.PlateCarree())\n",
    "    ax4.add_feature(cartopy.feature.LAND, zorder=100, edgecolor='black')\n",
    "    ax4.set_boundary(circle, transform=ax4.transAxes)\n",
    "    if legend=='yes':\n",
    "        cbar = f.colorbar(abso0, ax=ax4, shrink=1.0,orientation='vertical',extend='both')\n",
    "        cbar.set_label('$\\Delta$SIC [%]',rotation=90)   \n",
    "\n",
    "\n",
    "    ax5 = plt.subplot(3, 3, 4, projection=ccrs.NorthPolarStereo(central_longitude=0))\n",
    "    ax5.coastlines(resolution='110m', linewidth=0.5)\n",
    "    abso = ax5.pcolormesh(wrap_lon,lat,wrap_mindiff[0,:,:],transform=ccrs.PlateCarree(),vmax=vmaxdiff,vmin=vmindiff,cmap=mpl.cm.coolwarm,rasterized=True)\n",
    "    ax5.set_extent([-180, 180, lat_lim, 90], crs=ccrs.PlateCarree())\n",
    "    ax5.add_feature(cartopy.feature.LAND, zorder=100, edgecolor='black')\n",
    "    ax5.set_boundary(circle, transform=ax5.transAxes)\n",
    "\n",
    "    ax6 = plt.subplot(3, 3, 5, projection=ccrs.NorthPolarStereo(central_longitude=0))\n",
    "    ax6.coastlines(resolution='110m', linewidth=0.5)\n",
    "    diff = ax6.pcolormesh(wrap_lon,lat,wrap_mindiff[1,:,:],transform=ccrs.PlateCarree(),vmax=vmaxdiff,vmin=vmindiff,cmap=mpl.cm.coolwarm,rasterized=True)\n",
    "    ax6.set_extent([-180, 180, lat_lim, 90], crs=ccrs.PlateCarree())\n",
    "    ax6.add_feature(cartopy.feature.LAND, zorder=100, edgecolor='black')\n",
    "    ax6.set_boundary(circle, transform=ax6.transAxes)\n",
    "\n",
    "    ax8 = plt.subplot(3, 3, 6, projection=ccrs.NorthPolarStereo(central_longitude=0))\n",
    "    ax8.coastlines(resolution='110m', linewidth=0.5)\n",
    "    abso = ax8.pcolormesh(wrap_lon,lat,wrap_mindiff[2,:,:],transform=ccrs.PlateCarree(),vmax=vmaxdiff,vmin=vmindiff,cmap=mpl.cm.coolwarm,rasterized=True)\n",
    "    ax8.set_extent([-180, 180, lat_lim, 90], crs=ccrs.PlateCarree())\n",
    "    ax8.add_feature(cartopy.feature.LAND, zorder=100, edgecolor='black')\n",
    "    ax8.set_boundary(circle, transform=ax8.transAxes)\n",
    "    if legend=='yes':\n",
    "        cbar = f.colorbar(abso, ax=ax8, shrink=1.0,orientation='vertical',extend='both')\n",
    "        cbar.set_label('$\\Delta$SIC [%]',rotation=90)   \n",
    "\n",
    "    ax9 = plt.subplot(3, 3, 7, projection=ccrs.NorthPolarStereo(central_longitude=0))\n",
    "    ax9.coastlines(resolution='110m', linewidth=0.5)\n",
    "    diff = ax9.pcolormesh(wrap_lon,lat,wrap_maxdiff[0,:,:],transform=ccrs.PlateCarree(),vmax=vmaxdiff,vmin=vmindiff,cmap=mpl.cm.coolwarm,rasterized=True)\n",
    "    ax9.set_extent([-180, 180, lat_lim, 90], crs=ccrs.PlateCarree())\n",
    "    ax9.add_feature(cartopy.feature.LAND, zorder=100, edgecolor='black')\n",
    "    ax9.set_boundary(circle, transform=ax9.transAxes)\n",
    "\n",
    "    ax10 = plt.subplot(3, 3, 8, projection=ccrs.NorthPolarStereo(central_longitude=0))\n",
    "    ax10.coastlines(resolution='110m', linewidth=0.5)\n",
    "    abso0 = ax10.pcolormesh(wrap_lon,lat,wrap_maxdiff[1,:,:],transform=ccrs.PlateCarree(),vmax=vmaxdiff,vmin=vmindiff,cmap=mpl.cm.coolwarm,rasterized=True)\n",
    "    ax10.set_extent([-180, 180, lat_lim, 90], crs=ccrs.PlateCarree())\n",
    "    ax10.add_feature(cartopy.feature.LAND, zorder=100, edgecolor='black')\n",
    "    ax10.set_boundary(circle, transform=ax10.transAxes)\n",
    " \n",
    "    ax12 = plt.subplot(3, 3, 9, projection=ccrs.NorthPolarStereo(central_longitude=0))\n",
    "    ax12.coastlines(resolution='110m', linewidth=0.5)\n",
    "    diff = ax12.pcolormesh(wrap_lon,lat,wrap_maxdiff[2,:,:],transform=ccrs.PlateCarree(),vmax=vmaxdiff,vmin=vmindiff,cmap=mpl.cm.coolwarm,rasterized=True)\n",
    "    ax12.set_extent([-180, 180, lat_lim, 90], crs=ccrs.PlateCarree())\n",
    "    ax12.add_feature(cartopy.feature.LAND, zorder=100, edgecolor='black')\n",
    "    ax12.set_boundary(circle, transform=ax12.transAxes)\n",
    "    if legend=='yes':\n",
    "        cbar = f.colorbar(diff, ax=ax12, shrink=1.0,orientation='vertical',extend='both')\n",
    "        cbar.set_label('$\\Delta$SIC [%]',rotation=90)    \n",
    "\n",
    "\n",
    "    f.tight_layout()\n",
    "    \n",
    "    return f"
   ]
  },
  {
   "cell_type": "code",
   "execution_count": null,
   "metadata": {},
   "outputs": [],
   "source": [
    "f = map_npstereo_compare3_coldseasons(lon,lat,assim_diff_SICCI,assim_diff_BT,assim_diff_NT,legend='yes',name='TBV',lat_lim=45,vmin=160,vmax=270,vmindiff=-15,vmaxdiff=15)\n",
    "#f.savefig(plot_path+'Figure6.pdf',bbox_inches='tight',dpi=250)"
   ]
  },
  {
   "cell_type": "code",
   "execution_count": null,
   "metadata": {},
   "outputs": [],
   "source": [
    "f = map_npstereo_compare3_coldseasons(lon,lat,assim_diff_SICCI,assim_diff_BT,assim_diff_NT,legend='no',name='TBV',lat_lim=45,vmin=160,vmax=270,vmindiff=-15,vmaxdiff=15)\n",
    "#f.savefig(plot_path+'Figure6_withoutlegend_hole.pdf',bbox_inches='tight',dpi=250)"
   ]
  },
  {
   "cell_type": "markdown",
   "metadata": {},
   "source": [
    "PLOT FIGURE 8"
   ]
  },
  {
   "cell_type": "code",
   "execution_count": null,
   "metadata": {},
   "outputs": [],
   "source": [
    "def map_npstereo_compare3_coldseasons(lon,lat,obs,mindiff,maxdiff,sic_nt_bt,legend='yes',name='TBV',lat_lim=45,vmin=160,vmax=270,vmindiff=-10,vmaxdiff=10):\n",
    "\n",
    "    f = plt.figure(figsize=(8, 10))\n",
    "    #f = plt.figure()\n",
    "    #f.suptitle(str(time_in.values)[0:16],fontsize=22)\n",
    "\n",
    "    theta = np.linspace(0, 2*np.pi, 100)\n",
    "    center, radius = [0.5, 0.5], 0.5\n",
    "    verts = np.vstack([np.sin(theta), np.cos(theta)]).T\n",
    "    circle = mpl.path.Path(verts * radius + center)     \n",
    "    \n",
    "    lon = obs['lon']\n",
    "    lat = obs['lat']\n",
    "    \n",
    "    wrap_obs = np.zeros((3,len(lat),len(lon)+1))\n",
    "    wrap_mindiff = np.zeros((3,len(lat),len(lon)+1))\n",
    "    wrap_maxdiff = np.zeros((3,len(lat),len(lon)+1))\n",
    "    wrap_sic_diff = np.zeros((3,len(lat),len(lon)+1))\n",
    "    \n",
    "    for n in range(3):\n",
    "        if n == 0:\n",
    "            time_of_int = obs['time'].sel(time=sana.is_JFM(obs['time.month']))\n",
    "        elif n == 1:\n",
    "            time_of_int = obs['time'].sel(time=sana.is_AMJ(obs['time.month']))\n",
    "        elif n == 2:\n",
    "            time_of_int = obs['time'].sel(time=sana.is_OND(obs['time.month']))\n",
    "    \n",
    "        wrap_obs[n,:,:], wrap_lon = add_cyclic_point(obs.sel(time=time_of_int).mean('time').values,coord=lon,axis=1)\n",
    "        wrap_mindiff[n,:,:], wrap_lon = add_cyclic_point(mindiff.sel(time=time_of_int).mean('time').values,coord=lon,axis=1)\n",
    "        wrap_maxdiff[n,:,:], wrap_lon = add_cyclic_point(maxdiff.sel(time=time_of_int).mean('time').values,coord=lon,axis=1)\n",
    "        wrap_sic_diff[n,:,:], wrap_lon = add_cyclic_point(sic_nt_bt.sel(time=time_of_int).mean('time').values,coord=lon,axis=1)\n",
    "    \n",
    "    ax1 = plt.subplot(4, 3, 1, projection=ccrs.NorthPolarStereo(central_longitude=0))\n",
    "    ax1.coastlines(resolution='110m', linewidth=0.5)\n",
    "    abso0 = ax1.pcolormesh(wrap_lon,lat,wrap_obs[0,:,:],transform=ccrs.PlateCarree(),vmax=vmax,vmin=vmin,cmap=cmocean.cm.thermal,rasterized=True)\n",
    "    ax1.set_extent([-180, 180, lat_lim, 90], crs=ccrs.PlateCarree())\n",
    "    ax1.add_feature(cartopy.feature.LAND, zorder=100, edgecolor='black')\n",
    "    ax1.set_boundary(circle, transform=ax1.transAxes)\n",
    "\n",
    "    ax2 = plt.subplot(4, 3, 2, projection=ccrs.NorthPolarStereo(central_longitude=0))\n",
    "    ax2.coastlines(resolution='110m', linewidth=0.5)\n",
    "    abso = ax2.pcolormesh(wrap_lon,lat,wrap_obs[1,:,:],transform=ccrs.PlateCarree(),vmax=vmax,vmin=vmin,cmap=cmocean.cm.thermal,rasterized=True)\n",
    "    ax2.set_extent([-180, 180, lat_lim, 90], crs=ccrs.PlateCarree())\n",
    "    ax2.add_feature(cartopy.feature.LAND, zorder=100, edgecolor='black')\n",
    "    ax2.set_boundary(circle, transform=ax2.transAxes)\n",
    "\n",
    "        \n",
    "    ax4 = plt.subplot(4, 3, 3, projection=ccrs.NorthPolarStereo(central_longitude=0))\n",
    "    ax4.coastlines(resolution='110m', linewidth=0.5)\n",
    "    abso0 = ax4.pcolormesh(wrap_lon,lat,wrap_obs[2,:,:],transform=ccrs.PlateCarree(),vmax=vmax,vmin=vmin,cmap=cmocean.cm.thermal,rasterized=True)\n",
    "    ax4.set_extent([-180, 180, lat_lim, 90], crs=ccrs.PlateCarree())\n",
    "    ax4.add_feature(cartopy.feature.LAND, zorder=100, edgecolor='black')\n",
    "    ax4.set_boundary(circle, transform=ax4.transAxes)\n",
    "    if legend=='yes':\n",
    "        cbar = f.colorbar(abso0, ax=ax4, shrink=1.0,orientation='vertical')\n",
    "        cbar.set_label('TBV [K]',rotation=90)   \n",
    "\n",
    "\n",
    "    ax5 = plt.subplot(4, 3, 4, projection=ccrs.NorthPolarStereo(central_longitude=0))\n",
    "    ax5.coastlines(resolution='110m', linewidth=0.5)\n",
    "    abso = ax5.pcolormesh(wrap_lon,lat,wrap_mindiff[0,:,:],transform=ccrs.PlateCarree(),vmax=vmaxdiff,vmin=vmindiff,cmap=mpl.cm.coolwarm,rasterized=True)\n",
    "    ax5.set_extent([-180, 180, lat_lim, 90], crs=ccrs.PlateCarree())\n",
    "    ax5.add_feature(cartopy.feature.LAND, zorder=100, edgecolor='black')\n",
    "    ax5.set_boundary(circle, transform=ax5.transAxes)\n",
    "\n",
    "    ax6 = plt.subplot(4, 3, 5, projection=ccrs.NorthPolarStereo(central_longitude=0))\n",
    "    ax6.coastlines(resolution='110m', linewidth=0.5)\n",
    "    diff = ax6.pcolormesh(wrap_lon,lat,wrap_mindiff[1,:,:],transform=ccrs.PlateCarree(),vmax=vmaxdiff,vmin=vmindiff,cmap=mpl.cm.coolwarm,rasterized=True)\n",
    "    ax6.set_extent([-180, 180, lat_lim, 90], crs=ccrs.PlateCarree())\n",
    "    ax6.add_feature(cartopy.feature.LAND, zorder=100, edgecolor='black')\n",
    "    ax6.set_boundary(circle, transform=ax6.transAxes)\n",
    "\n",
    "    ax8 = plt.subplot(4, 3, 6, projection=ccrs.NorthPolarStereo(central_longitude=0))\n",
    "    ax8.coastlines(resolution='110m', linewidth=0.5)\n",
    "    abso = ax8.pcolormesh(wrap_lon,lat,wrap_mindiff[2,:,:],transform=ccrs.PlateCarree(),vmax=vmaxdiff,vmin=vmindiff,cmap=mpl.cm.coolwarm,rasterized=True)\n",
    "    ax8.set_extent([-180, 180, lat_lim, 90], crs=ccrs.PlateCarree())\n",
    "    ax8.add_feature(cartopy.feature.LAND, zorder=100, edgecolor='black')\n",
    "    ax8.set_boundary(circle, transform=ax8.transAxes)\n",
    "    if legend=='yes':\n",
    "        cbar = f.colorbar(abso, ax=ax8, shrink=1.0,orientation='vertical',extend='both')\n",
    "        cbar.set_label('$\\Delta$TBV [K]',rotation=90)   \n",
    "\n",
    "    ax9 = plt.subplot(4, 3, 7, projection=ccrs.NorthPolarStereo(central_longitude=0))\n",
    "    ax9.coastlines(resolution='110m', linewidth=0.5)\n",
    "    diff = ax9.pcolormesh(wrap_lon,lat,wrap_maxdiff[0,:,:],transform=ccrs.PlateCarree(),vmax=vmaxdiff,vmin=vmindiff,cmap=mpl.cm.coolwarm,rasterized=True)\n",
    "    ax9.set_extent([-180, 180, lat_lim, 90], crs=ccrs.PlateCarree())\n",
    "    ax9.add_feature(cartopy.feature.LAND, zorder=100, edgecolor='black')\n",
    "    ax9.set_boundary(circle, transform=ax9.transAxes)\n",
    "\n",
    "    ax10 = plt.subplot(4, 3, 8, projection=ccrs.NorthPolarStereo(central_longitude=0))\n",
    "    ax10.coastlines(resolution='110m', linewidth=0.5)\n",
    "    abso0 = ax10.pcolormesh(wrap_lon,lat,wrap_maxdiff[1,:,:],transform=ccrs.PlateCarree(),vmax=vmaxdiff,vmin=vmindiff,cmap=mpl.cm.coolwarm,rasterized=True)\n",
    "    ax10.set_extent([-180, 180, lat_lim, 90], crs=ccrs.PlateCarree())\n",
    "    ax10.add_feature(cartopy.feature.LAND, zorder=100, edgecolor='black')\n",
    "    ax10.set_boundary(circle, transform=ax10.transAxes)\n",
    " \n",
    "    ax12 = plt.subplot(4, 3, 9, projection=ccrs.NorthPolarStereo(central_longitude=0))\n",
    "    ax12.coastlines(resolution='110m', linewidth=0.5)\n",
    "    diff = ax12.pcolormesh(wrap_lon,lat,wrap_maxdiff[2,:,:],transform=ccrs.PlateCarree(),vmax=vmaxdiff,vmin=vmindiff,cmap=mpl.cm.coolwarm,rasterized=True)\n",
    "    ax12.set_extent([-180, 180, lat_lim, 90], crs=ccrs.PlateCarree())\n",
    "    ax12.add_feature(cartopy.feature.LAND, zorder=100, edgecolor='black')\n",
    "    ax12.set_boundary(circle, transform=ax12.transAxes)\n",
    "    if legend=='yes':\n",
    "        cbar = f.colorbar(diff, ax=ax12, shrink=1.0,orientation='vertical',extend='both')\n",
    "        cbar.set_label('$\\Delta$TBV [K]',rotation=90)    \n",
    "\n",
    "    ax13 = plt.subplot(4, 3, 10, projection=ccrs.NorthPolarStereo(central_longitude=0))\n",
    "    ax13.coastlines(resolution='110m', linewidth=0.5)\n",
    "    abso = ax13.pcolormesh(wrap_lon,lat,wrap_sic_diff[0,:,:],transform=ccrs.PlateCarree(),vmax=vmaxdiff,vmin=vmindiff,cmap=mpl.cm.coolwarm,rasterized=True)\n",
    "    ax13.set_extent([-180, 180, lat_lim, 90], crs=ccrs.PlateCarree())\n",
    "    ax13.add_feature(cartopy.feature.LAND, zorder=100, edgecolor='black')\n",
    "    ax13.set_boundary(circle, transform=ax13.transAxes)\n",
    "\n",
    "    ax14 = plt.subplot(4, 3, 11, projection=ccrs.NorthPolarStereo(central_longitude=0))\n",
    "    ax14.coastlines(resolution='110m', linewidth=0.5)\n",
    "    diff = ax14.pcolormesh(wrap_lon,lat,wrap_sic_diff[1,:,:],transform=ccrs.PlateCarree(),vmax=vmaxdiff,vmin=vmindiff,cmap=mpl.cm.coolwarm,rasterized=True)\n",
    "    ax14.set_extent([-180, 180, lat_lim, 90], crs=ccrs.PlateCarree())\n",
    "    ax14.add_feature(cartopy.feature.LAND, zorder=100, edgecolor='black')\n",
    "    ax14.set_boundary(circle, transform=ax14.transAxes)\n",
    "\n",
    "    ax16 = plt.subplot(4, 3, 12, projection=ccrs.NorthPolarStereo(central_longitude=0))\n",
    "    ax16.coastlines(resolution='110m', linewidth=0.5)\n",
    "    abso = ax16.pcolormesh(wrap_lon,lat,wrap_sic_diff[2,:,:],transform=ccrs.PlateCarree(),vmax=vmaxdiff,vmin=vmindiff,cmap=mpl.cm.coolwarm,rasterized=True)\n",
    "    ax16.set_extent([-180, 180, lat_lim, 90], crs=ccrs.PlateCarree())\n",
    "    ax16.add_feature(cartopy.feature.LAND, zorder=100, edgecolor='black')\n",
    "    ax16.set_boundary(circle, transform=ax16.transAxes)\n",
    "    if legend=='yes':\n",
    "        cbar = f.colorbar(abso, ax=ax16, shrink=1.0,orientation='vertical',extend='both')\n",
    "        cbar.set_label('$\\Delta$SIC [%]',rotation=90)   \n",
    "\n",
    "    f.tight_layout()\n",
    "    \n",
    "    return f"
   ]
  },
  {
   "cell_type": "code",
   "execution_count": null,
   "metadata": {},
   "outputs": [],
   "source": [
    "f = map_npstereo_compare3_coldseasons(lon,lat,TB_obs.load(),min0,max0,diff_sic_nt_bt*100,legend='yes',name='TBV',lat_lim=45,vmin=160,vmax=270,vmindiff=-15,vmaxdiff=15)\n",
    "#f.savefig(plot_path+'Figure8.pdf',bbox_inches='tight',dpi=250)"
   ]
  },
  {
   "cell_type": "code",
   "execution_count": null,
   "metadata": {},
   "outputs": [],
   "source": [
    "f = map_npstereo_compare3_coldseasons(lon,lat,TB_obs.load(),min0,max0,diff_sic_nt_bt*100,legend='no',name='TBV',lat_lim=45,vmin=160,vmax=270,vmindiff=-15,vmaxdiff=15)\n",
    "f.savefig(plot_path+'Figure8_withoutlegend_hole.pdf',bbox_inches='tight',dpi=250)"
   ]
  }
 ],
 "metadata": {
  "kernelspec": {
   "display_name": "Python 3",
   "language": "python",
   "name": "python3"
  },
  "language_info": {
   "codemirror_mode": {
    "name": "ipython",
    "version": 3
   },
   "file_extension": ".py",
   "mimetype": "text/x-python",
   "name": "python",
   "nbconvert_exporter": "python",
   "pygments_lexer": "ipython3",
   "version": "3.7.4"
  }
 },
 "nbformat": 4,
 "nbformat_minor": 2
}
