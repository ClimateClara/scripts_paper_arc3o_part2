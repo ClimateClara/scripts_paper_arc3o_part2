{
 "cells": [
  {
   "cell_type": "markdown",
   "metadata": {},
   "source": [
    "Created on Wed Mar 27 16:50 2019\n",
    "\n",
    "timeseries of different observational datasets (SICCI2, Bootstrap, NASA Team)\n",
    "\n",
    "@author: Clara Burgard"
   ]
  },
  {
   "cell_type": "code",
   "execution_count": null,
   "metadata": {},
   "outputs": [],
   "source": [
    "import pandas as pd\n",
    "import xarray as xr\n",
    "import numpy as np\n",
    "import matplotlib.pyplot as plt\n",
    "import seaborn as sns"
   ]
  },
  {
   "cell_type": "code",
   "execution_count": null,
   "metadata": {},
   "outputs": [],
   "source": [
    "sns.set_context('paper')"
   ]
  },
  {
   "cell_type": "markdown",
   "metadata": {},
   "source": [
    "READ IN DATA"
   ]
  },
  {
   "cell_type": "code",
   "execution_count": null,
   "metadata": {},
   "outputs": [],
   "source": [
    "inputpath = '/work/mh0033/m300411/SatSim/WORK_DATA/observations/'\n",
    "plot_path = '/work/mh0033/m300411/SatSim/PLOTS/'"
   ]
  },
  {
   "cell_type": "code",
   "execution_count": null,
   "metadata": {},
   "outputs": [],
   "source": [
    "data = pd.read_table(inputpath+'EUMETSAT-OSISAF_OSI-450__ESA-CCI_SICCI-25km__ICDC__SeaIceAreaandExtentTimeseries__nh_fv0.03.txt',delimiter=',')"
   ]
  },
  {
   "cell_type": "code",
   "execution_count": null,
   "metadata": {},
   "outputs": [],
   "source": [
    "SIA_temp = np.load(inputpath+'SIA_observations_nh.npy',allow_pickle=True)\n",
    "\n",
    "def read_sia(key):\n",
    "    sia = pd.DataFrame(index=range(1850,2020))\n",
    "    for i in range(1,13):\n",
    "        sia[i] = SIA_temp[key][str(i).zfill(2)]\n",
    "    return sia\n",
    "\n",
    "NSIDC_nt = read_sia('NSIDC_nt')\n",
    "NSIDC_bt = read_sia('NSIDC_bt')"
   ]
  },
  {
   "cell_type": "markdown",
   "metadata": {},
   "source": [
    "ORGANIZING THE DATA OF INTEREST (SICCI2, BT, NT)"
   ]
  },
  {
   "cell_type": "code",
   "execution_count": null,
   "metadata": {},
   "outputs": [],
   "source": [
    "data['time'] = pd.to_datetime(data.year*10000+data.month*100+1,format='%Y%m%d')"
   ]
  },
  {
   "cell_type": "code",
   "execution_count": null,
   "metadata": {},
   "outputs": [],
   "source": [
    "data = data.set_index('time')"
   ]
  },
  {
   "cell_type": "code",
   "execution_count": null,
   "metadata": {},
   "outputs": [],
   "source": [
    "time = []\n",
    "NT = np.zeros(len(data.index))\n",
    "BT = np.zeros(len(data.index))\n",
    "\n",
    "n = 0\n",
    "for yy in range(1979,2018):\n",
    "    for mm in range (1,13):\n",
    "        if (yy == 2017 and mm < 5):\n",
    "            #print(yy,mm) \n",
    "            time[n] = time.append(pd.to_datetime(yy*10000+mm*100+1,format='%Y%m%d'))\n",
    "            NT[n] = NSIDC_nt[mm].loc[yy]\n",
    "            BT[n] = NSIDC_bt[mm].loc[yy]\n",
    "            n = n+1\n",
    "        elif yy < 2017:\n",
    "            #print(yy,mm) \n",
    "            time[n] = time.append(pd.to_datetime(yy*10000+mm*100+1,format='%Y%m%d'))\n",
    "            NT[n] = NSIDC_nt[mm].loc[yy]\n",
    "            BT[n] = NSIDC_bt[mm].loc[yy]\n",
    "            n = n+1"
   ]
  },
  {
   "cell_type": "code",
   "execution_count": null,
   "metadata": {},
   "outputs": [],
   "source": [
    "data['NT'] = NT\n",
    "data['BT'] = BT"
   ]
  },
  {
   "cell_type": "markdown",
   "metadata": {},
   "source": [
    "PLOT FIGURE 7"
   ]
  },
  {
   "cell_type": "code",
   "execution_count": null,
   "metadata": {},
   "outputs": [],
   "source": [
    "lw=2\n",
    "\n",
    "f, axarr = plt.subplots(2, sharex=True,figsize=(8.27/2,8.27/2))\n",
    "axarr[0].plot(data.index[data.index.month==3],data['SICCI-25kmSIA[km²]'][data.index.month==3]/10**6,color='magenta',label='SICCI',linewidth=2)\n",
    "axarr[0].plot(data.index[data.index.month==3],data['BT'][data.index.month==3]/10**6,label='Bootstrap',color='red',linewidth=2)\n",
    "axarr[0].plot(data.index[data.index.month==3],data['NT'][data.index.month==3]/10**6,label='NASA Team',color='orange',linewidth=2)\n",
    "axarr[1].plot(data.index[data.index.month==9],data['SICCI-25kmSIA[km²]'][data.index.month==9]/10**6,color='magenta',label='SICCI',linewidth=2)\n",
    "axarr[1].plot(data.index[data.index.month==9],data['BT'][data.index.month==9]/10**6,label='Bootstrap',color='red',linewidth=2)\n",
    "axarr[1].plot(data.index[data.index.month==9],data['NT'][data.index.month==9]/10**6,label='NASA Team',color='orange',linewidth=2)\n",
    "axarr[1].set_xlabel('Year')\n",
    "#axarr[0].set_ylabel('March sea-ice area [x 10$^6$ km$^2$]')\n",
    "#axarr[1].set_ylabel('September sea-ice area [x 10$^6$ km$^2$]')\n",
    "sns.despine()\n",
    "plt.tight_layout()\n",
    "f.savefig(plot_path+'Figure7.pdf',dpi=250,bbox_inches='tight')\n"
   ]
  }
 ],
 "metadata": {
  "kernelspec": {
   "display_name": "Python 3",
   "language": "python",
   "name": "python3"
  },
  "language_info": {
   "codemirror_mode": {
    "name": "ipython",
    "version": 3
   },
   "file_extension": ".py",
   "mimetype": "text/x-python",
   "name": "python",
   "nbconvert_exporter": "python",
   "pygments_lexer": "ipython3",
   "version": "3.7.4"
  }
 },
 "nbformat": 4,
 "nbformat_minor": 2
}
