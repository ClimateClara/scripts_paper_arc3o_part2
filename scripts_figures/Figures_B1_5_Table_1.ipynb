{
 "cells": [
  {
   "cell_type": "markdown",
   "metadata": {},
   "source": [
    "Created on Wed Jun 03 15:23 2020\n",
    "\n",
    "Plot Figure B1, Figure 5 and compute results for Table 1, based on results from prepare_sens_ranges.sh, prepare_sensexp_data.py, and prepare_sensexp_output_for_figure5.sh\n",
    "\n",
    "@author: Clara Burgard"
   ]
  },
  {
   "cell_type": "code",
   "execution_count": null,
   "metadata": {},
   "outputs": [],
   "source": [
    "import xarray as xr\n",
    "import matplotlib.pyplot as plt\n",
    "import numpy as np\n",
    "import cartopy\n",
    "import cartopy.crs as ccrs\n",
    "from cartopy.util import add_cyclic_point\n",
    "import matplotlib as mpl\n",
    "import cmocean"
   ]
  },
  {
   "cell_type": "markdown",
   "metadata": {},
   "source": [
    "READ IN THE DATA"
   ]
  },
  {
   "cell_type": "code",
   "execution_count": null,
   "metadata": {},
   "outputs": [],
   "source": [
    "assim='SICCI2' # can also be used with 'Bootstrap' and 'NASATeam' but not shown in paper"
   ]
  },
  {
   "cell_type": "code",
   "execution_count": null,
   "metadata": {},
   "outputs": [],
   "source": [
    "mod_inputpath0 = '/work/mh0033/m300411/SatSim/WORK_DATA/simulated_TBs/'\n",
    "if assim=='SICCI2':\n",
    "    mod_inputpath = mod_inputpath0+'20200603-2009/'#SICCI\n",
    "elif assim=='Bootstrap':\n",
    "    mod_inputpath = mod_inputpath0+'20200604-0904/'#Bootstrap\n",
    "elif assim=='NASATeam':\n",
    "    mod_inputpath = mod_inputpath0+'20200604-0918/'#NASATeam\n",
    "plot_path = '/work/mh0033/m300411/SatSim/PLOTS/'"
   ]
  },
  {
   "cell_type": "markdown",
   "metadata": {},
   "source": [
    "Read in some of the data to fix boundaries (lat,lon,time)"
   ]
  },
  {
   "cell_type": "code",
   "execution_count": null,
   "metadata": {},
   "outputs": [],
   "source": [
    "test = xr.open_dataset(mod_inputpath+'sicplus/March/mergetime/TBtotdiff_assim_2004-2008_03_7_hole.nc')\n",
    "test1 = xr.open_dataset(mod_inputpath+'sicplus/October/mergetime/TBtotdiff_assim_2004-2008_10_7_hole.nc')\n",
    "test3 = xr.open_dataset(mod_inputpath0+'var_sens/SICCI2/seaice_SICCI2_50km_echam6_03_ensstd_siconly_hole.nc')\n",
    "test4 = xr.open_dataset(mod_inputpath0+'var_sens/SICCI2/seaice_SICCI2_50km_echam6_10_ensstd_siconly_hole.nc')"
   ]
  },
  {
   "cell_type": "code",
   "execution_count": null,
   "metadata": {},
   "outputs": [],
   "source": [
    "timelength_March = test.time\n",
    "timelength_Oct = test1.time\n",
    "timelength_March_input = test3.time\n",
    "timelength_Oct_input = test4.time\n",
    "lat = test.lat\n",
    "lon = test.lon\n",
    "\n",
    "# most southerly latitude plotted\n",
    "lat_lim = 45\n",
    "\n",
    "# needed to plot a circle later\n",
    "theta = np.linspace(0, 2*np.pi, 100)\n",
    "center, radius = [0.5, 0.5], 0.5\n",
    "verts = np.vstack([np.sin(theta), np.cos(theta)]).T\n",
    "circle = mpl.path.Path(verts * radius + center) "
   ]
  },
  {
   "cell_type": "markdown",
   "metadata": {},
   "source": [
    "Prepare the datasets"
   ]
  },
  {
   "cell_type": "code",
   "execution_count": null,
   "metadata": {},
   "outputs": [],
   "source": [
    "# Modulated variables\n",
    "ds_input_March = xr.Dataset({'sic': (['time','lat','lon','plus_minus'], np.zeros((len(timelength_March_input),len(lat),len(lon),2))),\n",
    "                'sit': (['time','lat','lon','plus_minus'], np.zeros((len(timelength_March_input),len(lat),len(lon),2))),\n",
    "                'snow': (['time','lat','lon','plus_minus'], np.zeros((len(timelength_March_input),len(lat),len(lon),2))),\n",
    "                'temp': (['time','lat','lon','plus_minus'], np.zeros((len(timelength_March_input),len(lat),len(lon),2)))\n",
    "                                       },\n",
    "                coords={'time': timelength_March_input,'lat': lat,'lon': lon,'plus_minus': ['plus','minus']})\n",
    "\n",
    "ds_input_October = xr.Dataset({'sic': (['time','lat','lon','plus_minus'], np.zeros((len(timelength_Oct_input),len(lat),len(lon),2))),\n",
    "                'sit': (['time','lat','lon','plus_minus'], np.zeros((len(timelength_Oct_input),len(lat),len(lon),2))),\n",
    "                'snow': (['time','lat','lon','plus_minus'], np.zeros((len(timelength_Oct_input),len(lat),len(lon),2))),\n",
    "                'temp': (['time','lat','lon','plus_minus'], np.zeros((len(timelength_Oct_input),len(lat),len(lon),2)))\n",
    "                                       },\n",
    "                coords={'time': timelength_Oct_input,'lat': lat,'lon': lon,'plus_minus': ['plus','minus']})"
   ]
  },
  {
   "cell_type": "code",
   "execution_count": null,
   "metadata": {},
   "outputs": [],
   "source": [
    "# Resulting brightness temperature differences\n",
    "ds_March = xr.Dataset({'sic': (['time','lat','lon','plus_minus'], np.zeros((len(timelength_March),len(lat),len(lon),2))),\n",
    "                'sit': (['time','lat','lon','plus_minus'], np.zeros((len(timelength_March),len(lat),len(lon),2))),\n",
    "                'snow': (['time','lat','lon','plus_minus'], np.zeros((len(timelength_March),len(lat),len(lon),2))),\n",
    "                'temp': (['time','lat','lon','plus_minus'], np.zeros((len(timelength_March),len(lat),len(lon),2))),\n",
    "                                       },\n",
    "\n",
    "                coords={'time': timelength_March,'lat': lat,'lon': lon,'plus_minus': ['plus','minus']})\n",
    "\n",
    "ds_October = xr.Dataset({'sic': (['time','lat','lon','plus_minus'], np.zeros((len(timelength_Oct),len(lat),len(lon),2))),\n",
    "                'sit': (['time','lat','lon','plus_minus'], np.zeros((len(timelength_Oct),len(lat),len(lon),2))),\n",
    "                'snow': (['time','lat','lon','plus_minus'], np.zeros((len(timelength_Oct),len(lat),len(lon),2))),\n",
    "                'temp': (['time','lat','lon','plus_minus'], np.zeros((len(timelength_Oct),len(lat),len(lon),2))),\n",
    "                                       },\n",
    "\n",
    "                coords={'time': timelength_Oct,'lat': lat,'lon': lon,'plus_minus': ['plus','minus']})\n"
   ]
  },
  {
   "cell_type": "code",
   "execution_count": null,
   "metadata": {},
   "outputs": [],
   "source": [
    "# limits for the colorbar\n",
    "v_limits = xr.Dataset({'sic': (['direction'], np.zeros(2)),\n",
    "                'sit': (['direction'], np.zeros(2)),\n",
    "                'snow': (['direction'], np.zeros(2)),\n",
    "                'temp': (['direction'], np.zeros(2))\n",
    "                                       },\n",
    "                coords={'direction': ['vmax','vmin']})\n",
    "v_limits['sic'].loc[dict(direction='vmin')] = 0\n",
    "v_limits['sic'].loc[dict(direction='vmax')] = 45\n",
    "v_limits['sit'].loc[dict(direction='vmin')] = 0\n",
    "v_limits['sit'].loc[dict(direction='vmax')] = 60\n",
    "v_limits['snow'].loc[dict(direction='vmin')] = 0\n",
    "v_limits['snow'].loc[dict(direction='vmax')] = 15\n",
    "v_limits['temp'].loc[dict(direction='vmin')] = 0\n",
    "v_limits['temp'].loc[dict(direction='vmax')] = 9"
   ]
  },
  {
   "cell_type": "markdown",
   "metadata": {},
   "source": [
    "Filling up the datasets with data from netcdf files"
   ]
  },
  {
   "cell_type": "code",
   "execution_count": null,
   "metadata": {},
   "outputs": [],
   "source": [
    "for var in ['sic','sit','temp','snow']:\n",
    "    print(var)\n",
    "    \n",
    "    if var=='sic':\n",
    "        var1 = 'seaice'\n",
    "    elif var=='sit':\n",
    "        var1 = 'siced'\n",
    "    elif var=='temp':\n",
    "        var1 = 'tsi'\n",
    "    elif var=='snow':\n",
    "        var1 = 'sni'\n",
    "    \n",
    "    for plus_minus in ['plus','minus']:\n",
    "        for mon in ['March','October']:\n",
    "            if mon == 'March':\n",
    "                mm = 3\n",
    "                ds_March[var].loc[dict(plus_minus=plus_minus)] = xr.open_dataset(mod_inputpath+var+plus_minus+'/'+mon+'/mergetime/TBtotdiff_assim_2004-2008_'+str(mm).zfill(2)+'_7_hole.nc')['TBV']\n",
    "                if assim == 'SICCI2':\n",
    "                    ds_input_March[var].loc[dict(plus_minus=plus_minus)] = xr.open_dataset(mod_inputpath0+'var_sens/SICCI2/'+var1+'_SICCI2_50km_echam6_'+str(mm).zfill(2)+'_ensstd_siconly_hole.nc')[var1]\n",
    "                else:\n",
    "                    ds_input_March[var].loc[dict(plus_minus=plus_minus)] = xr.open_dataset(mod_inputpath0+'var_sens/'+assim+'/'+var1+'_'+assim+'_echam6_'+str(mm).zfill(2)+'_ensstd_siconly_hole.nc')[var1]\n",
    "              \n",
    "            elif mon == 'October':\n",
    "                mm = 10\n",
    "                ds_October[var].loc[dict(plus_minus=plus_minus)] = xr.open_dataset(mod_inputpath+var+plus_minus+'/'+mon+'/mergetime/TBtotdiff_assim_2004-2008_'+str(mm).zfill(2)+'_7_hole.nc')['TBV']\n",
    "                if assim == 'SICCI2':\n",
    "                    ds_input_October[var].loc[dict(plus_minus=plus_minus)] = xr.open_dataset(mod_inputpath0+'var_sens/SICCI2/'+var1+'_SICCI2_50km_echam6_'+str(mm).zfill(2)+'_ensstd_siconly_hole.nc')[var1]\n",
    "                else:\n",
    "                    ds_input_October[var].loc[dict(plus_minus=plus_minus)] = xr.open_dataset(mod_inputpath0+'var_sens/'+assim+'/'+var1+'_'+assim+'_echam6_'+str(mm).zfill(2)+'_ensstd_siconly_hole.nc')[var1]\n"
   ]
  },
  {
   "cell_type": "markdown",
   "metadata": {},
   "source": [
    "Read in the masks (where sea ice is present)"
   ]
  },
  {
   "cell_type": "code",
   "execution_count": null,
   "metadata": {},
   "outputs": [],
   "source": [
    "test_mask_03 = xr.open_dataset(mod_inputpath0+'var_sens/SICCI2/seaice_SICCI2_50km_echam6_03_siconly_testmask_hole.nc')\n",
    "test_mask_10 = xr.open_dataset(mod_inputpath0+'var_sens/SICCI2/seaice_SICCI2_50km_echam6_10_siconly_testmask_hole.nc')"
   ]
  },
  {
   "cell_type": "code",
   "execution_count": null,
   "metadata": {},
   "outputs": [],
   "source": [
    "# sea-ice concentration above 10% to avoid spurious results in very marginal regions\n",
    "mask03 = test_mask_03['seaice'].mean('time').where(test_mask_03['seaice'].mean('time')>0.1)\n",
    "mask10 = test_mask_10['seaice'].mean('time').where(test_mask_10['seaice'].mean('time')>0.1)\n"
   ]
  },
  {
   "cell_type": "markdown",
   "metadata": {},
   "source": [
    "PLOT FIGURE B1 lower row"
   ]
  },
  {
   "cell_type": "code",
   "execution_count": null,
   "metadata": {},
   "outputs": [],
   "source": [
    "for var in ['sic','sit','snow','temp']:\n",
    "    values_plot = ds_input_March[var].sel(plus_minus='plus').mean('time').where(np.isnan(mask03)==False).values\n",
    "    wrap_param, wrap_lon = add_cyclic_point(values_plot,coord=lon,axis=1)\n",
    "    \n",
    "    f = plt.figure()\n",
    "    f.set_size_inches(8.27/2,8.27/2)\n",
    "\n",
    "    ax = plt.axes(projection=ccrs.NorthPolarStereo(central_longitude=0))\n",
    "    cs = ax.coastlines(resolution='110m', linewidth=0.5)\n",
    "    if var == 'sic':\n",
    "        plt.pcolormesh(wrap_lon,lat,wrap_param*100,transform=ccrs.PlateCarree(),vmax=v_limits[var].sel(direction='vmax'),cmap=cmocean.cm.ice,rasterized=True)#,vmax=0.5,vmin=0\n",
    "    elif var == 'snow':\n",
    "        plt.pcolormesh(wrap_lon,lat,wrap_param*1000/300*100,transform=ccrs.PlateCarree(),vmax=v_limits[var].sel(direction='vmax'),cmap=cmocean.cm.gray,rasterized=True)#,vmax=0.5,vmin=0\n",
    "    elif var == 'sit':\n",
    "        plt.pcolormesh(wrap_lon,lat,wrap_param*100,transform=ccrs.PlateCarree(),vmax=v_limits[var].sel(direction='vmax'),cmap=cmocean.cm.ice,rasterized=True)#,vmax=0.5,vmin=0\n",
    "    elif var == 'temp':\n",
    "        plt.pcolormesh(wrap_lon,lat,wrap_param,transform=ccrs.PlateCarree(),vmax=v_limits[var].sel(direction='vmax'),cmap=cmocean.cm.thermal,rasterized=True)#,vmax=0.5,vmin=0\n",
    "    ax.set_extent([-180, 180, lat_lim, 90], crs=ccrs.PlateCarree())\n",
    "    ax.add_feature(cartopy.feature.LAND, zorder=100, edgecolor='black')\n",
    "    ax.set_boundary(circle, transform=ax.transAxes)\n",
    "    cbar = plt.colorbar(shrink=0.75,orientation='horizontal')\n",
    "\n",
    "    plt.tight_layout()\n",
    "    #f.savefig(plot_path+'param_'+var+'_March_'+assim+'_new.pdf',bbox_inches='tight',dpi=250)"
   ]
  },
  {
   "cell_type": "markdown",
   "metadata": {},
   "source": [
    "PLOT FIGURE B1 upper row"
   ]
  },
  {
   "cell_type": "code",
   "execution_count": null,
   "metadata": {},
   "outputs": [],
   "source": [
    "for var in ['sic','sit','snow','temp']:\n",
    "    values_plot = ds_input_October[var].sel(plus_minus='plus').mean('time').where(np.isnan(mask10)==False).values\n",
    "    wrap_param, wrap_lon = add_cyclic_point(values_plot,coord=lon,axis=1)\n",
    "    \n",
    "    f = plt.figure()\n",
    "    f.set_size_inches(8.27/2,8.27/2)\n",
    "\n",
    "    ax = plt.axes(projection=ccrs.NorthPolarStereo(central_longitude=0))\n",
    "    cs = ax.coastlines(resolution='110m', linewidth=0.5)\n",
    "    if var == 'sic':\n",
    "        plt.pcolormesh(wrap_lon,lat,wrap_param*100,transform=ccrs.PlateCarree(),vmax=v_limits[var].sel(direction='vmax'),cmap=cmocean.cm.ice,rasterized=True)#,vmax=0.5,vmin=0\n",
    "    elif var == 'snow':\n",
    "        plt.pcolormesh(wrap_lon,lat,wrap_param*1000/300*100,transform=ccrs.PlateCarree(),vmax=v_limits[var].sel(direction='vmax'),cmap=cmocean.cm.gray,rasterized=True)#,vmax=0.5,vmin=0\n",
    "    elif var == 'sit':\n",
    "        plt.pcolormesh(wrap_lon,lat,wrap_param*100,transform=ccrs.PlateCarree(),vmax=v_limits[var].sel(direction='vmax'),cmap=cmocean.cm.ice,rasterized=True)#,vmax=0.5,vmin=0\n",
    "    elif var == 'temp':\n",
    "        plt.pcolormesh(wrap_lon,lat,wrap_param,transform=ccrs.PlateCarree(),vmax=v_limits[var].sel(direction='vmax'),cmap=cmocean.cm.thermal,rasterized=True)#,vmax=0.5,vmin=0\n",
    "    ax.set_extent([-180, 180, lat_lim, 90], crs=ccrs.PlateCarree())\n",
    "    ax.add_feature(cartopy.feature.LAND, zorder=100, edgecolor='black')\n",
    "    ax.set_boundary(circle, transform=ax.transAxes)\n",
    "    cbar = plt.colorbar(shrink=0.75,orientation='horizontal')\n",
    "\n",
    "    plt.tight_layout()\n",
    "    #f.savefig(plot_path+'param_'+var+'_October_'+assim+'_new.pdf',bbox_inches='tight',dpi=250)"
   ]
  },
  {
   "cell_type": "markdown",
   "metadata": {},
   "source": [
    "VARIABILITY RANGE ESTIMATES, column 1 in Table 1"
   ]
  },
  {
   "cell_type": "code",
   "execution_count": null,
   "metadata": {},
   "outputs": [],
   "source": [
    "var='temp' # or 'sic' or 'sit'\n",
    "print(ds_input_March[var].mean(dim='time').quantile([0.05,0.95]).values)\n",
    "print(ds_input_October[var].mean(dim='time').quantile([0.05,0.95]).values) "
   ]
  },
  {
   "cell_type": "code",
   "execution_count": null,
   "metadata": {},
   "outputs": [],
   "source": [
    "print((ds_input_March['snow']*1000/300).mean(dim='time').quantile([0.05,0.95]).values)\n",
    "print((ds_input_October['snow']*1000/300).mean(dim='time').quantile([0.05,0.95]).values) "
   ]
  },
  {
   "cell_type": "markdown",
   "metadata": {},
   "source": [
    "VARIATION IN BRIGHTNESS TEMPERATURE, column 2 and 3 in Table 1"
   ]
  },
  {
   "cell_type": "code",
   "execution_count": null,
   "metadata": {},
   "outputs": [],
   "source": [
    "mask = np.isnan(ds_input_March[var].sel(plus_minus=plus_minus).isel(time=0))==False"
   ]
  },
  {
   "cell_type": "code",
   "execution_count": null,
   "metadata": {},
   "outputs": [],
   "source": [
    "plus_minus = 'minus' # or 'plus'\n",
    "var='temp' # or 'sic' or 'sit' or 'snow'\n",
    "\n",
    "# March\n",
    "print((ds_March[var]).sel(plus_minus=plus_minus).where(mask).mean(dim='time').quantile([0.05,0.95]).values)\n",
    "# October\n",
    "print((ds_October[var]).sel(plus_minus=plus_minus).where(mask).mean(dim='time').quantile([0.05,0.95]).values)\n"
   ]
  },
  {
   "cell_type": "markdown",
   "metadata": {},
   "source": [
    "PLOT FIGURE 5"
   ]
  },
  {
   "cell_type": "markdown",
   "metadata": {},
   "source": [
    "FIGURE 5b"
   ]
  },
  {
   "cell_type": "code",
   "execution_count": null,
   "metadata": {},
   "outputs": [],
   "source": [
    "lat_lim = 45\n",
    "\n",
    "# absolute effect on brightness temperature (because we do not care if the effect is negative or positive)\n",
    "abs_ds_March = abs(ds_March)\n",
    "# for each grid cell, the mean effect over time\n",
    "mean_ds_March = ds_March.mean(dim='time')\n",
    "# for each grid cell, the mean absoute effect over time\n",
    "mean_abs_ds_March = abs_ds_March.mean(dim='time')\n",
    "# to array\n",
    "compare_mean_abs_ds_March = mean_abs_ds_March.to_array()\n",
    "# write out index of variable which has the highest value (0 is SIC, 1 is SIT, 2 is SNOW, 3 is TEMP)\n",
    "argmax0 = compare_mean_abs_ds_March.where(np.isnan(compare_mean_abs_ds_March)==False,0).argmax('variable')\n",
    "\n",
    "for plus_minus in ['plus','minus']:\n",
    "    # select sea ice regions\n",
    "    values_plot = argmax0.where(np.isnan(mask03)==False).sel(plus_minus=plus_minus)\n",
    "    wrap_param, wrap_lon = add_cyclic_point(values_plot,coord=lon,axis=1)\n",
    "\n",
    "    f = plt.figure(dpi=200)\n",
    "    f.set_size_inches(8.27/2,8.27/2)\n",
    "\n",
    "    ax = plt.axes(projection=ccrs.NorthPolarStereo(central_longitude=0))\n",
    "    cs = ax.coastlines(resolution='110m', linewidth=0.5)\n",
    "\n",
    "    cmap = mpl.colors.ListedColormap(['blue', 'deepskyblue', 'grey', 'red'])\n",
    "    cmap.set_over('0.25')\n",
    "    cmap.set_under('0.75')\n",
    "\n",
    "    plt.pcolormesh(wrap_lon,lat,wrap_param,transform=ccrs.PlateCarree(),cmap=cmap,vmin=0,vmax=3,rasterized=True)#,cmap=cmocean.cm.ice)#,vmax=0.5,vmin=0\n",
    "    ax.set_extent([-180, 180, lat_lim, 90], crs=ccrs.PlateCarree())\n",
    "    ax.add_feature(cartopy.feature.LAND, zorder=100, edgecolor='black')\n",
    "    ax.set_boundary(circle, transform=ax.transAxes)\n",
    "\n",
    "    bounds = [0, 1, 2, 3]\n",
    "    norm = mpl.colors.BoundaryNorm(bounds, cmap.N)\n",
    "\n",
    "    cbar = plt.colorbar(shrink=0.75,orientation='horizontal')\n",
    "    cbar.set_label('Importance of param')\n",
    "\n",
    "    plt.tight_layout()\n",
    "    #f.savefig(plot_path+'importance_param_'+plus_minus+'_March_'+assim+'_new.pdf',bbox_inches='tight',dpi=250)"
   ]
  },
  {
   "cell_type": "markdown",
   "metadata": {},
   "source": [
    "Figure 5a"
   ]
  },
  {
   "cell_type": "code",
   "execution_count": null,
   "metadata": {},
   "outputs": [],
   "source": [
    "lat_lim = 45\n",
    "\n",
    "# absolute effect on brightness temperature (because we do not care if the effect is negative or positive)\n",
    "abs_ds_October = abs(ds_October)\n",
    "# for each grid cell, the mean effect over time\n",
    "mean_ds_October = ds_October.mean(dim='time')\n",
    "# for each grid cell, the mean absoute effect over time\n",
    "mean_abs_ds_October = abs_ds_October.mean(dim='time')\n",
    "# to array\n",
    "compare_mean_abs_ds_October = mean_abs_ds_October.to_array()\n",
    "# write out index of variable which has the highest value (0 is SIC, 1 is SIT, 2 is SNOW, 3 is TEMP)\n",
    "argmax0 = compare_mean_abs_ds_October.where(np.isnan(compare_mean_abs_ds_October)==False,0).argmax('variable')\n",
    "\n",
    "for plus_minus in ['plus','minus']:\n",
    "    # select sea ice regions\n",
    "    values_plot = argmax0.where(np.isnan(mask10)==False).sel(plus_minus=plus_minus)    \n",
    "    wrap_param, wrap_lon = add_cyclic_point(values_plot,coord=lon,axis=1)\n",
    "\n",
    "    f = plt.figure(dpi=200)\n",
    "    f.set_size_inches(8.27/2,8.27/2)\n",
    "\n",
    "    ax = plt.axes(projection=ccrs.NorthPolarStereo(central_longitude=0))\n",
    "    cs = ax.coastlines(resolution='110m', linewidth=0.5)\n",
    "\n",
    "    cmap = mpl.colors.ListedColormap(['blue', 'deepskyblue', 'grey', 'red'])\n",
    "    cmap.set_over('0.25')\n",
    "    cmap.set_under('0.75')\n",
    "\n",
    "    plt.pcolormesh(wrap_lon,lat,wrap_param,transform=ccrs.PlateCarree(),cmap=cmap,vmin=0,vmax=3,rasterized=True)#,cmap=cmocean.cm.ice)#,vmax=0.5,vmin=0\n",
    "    ax.set_extent([-180, 180, lat_lim, 90], crs=ccrs.PlateCarree())\n",
    "    ax.add_feature(cartopy.feature.LAND, zorder=100, edgecolor='black')\n",
    "    ax.set_boundary(circle, transform=ax.transAxes)\n",
    "    #ax.set_title()\n",
    "\n",
    "    bounds = [0, 1, 2, 3]\n",
    "    norm = mpl.colors.BoundaryNorm(bounds, cmap.N)\n",
    "\n",
    "    cbar = plt.colorbar(shrink=0.75,orientation='horizontal')\n",
    "    cbar.set_label('Importance of param')\n",
    "    #cbar.ax.tick_params(labelsize=12)\n",
    "\n",
    "    plt.tight_layout()\n",
    "    #f.savefig(plot_path+'importance_param_'+plus_minus+'_October_'+assim+'_new.pdf',bbox_inches='tight',dpi=250)"
   ]
  }
 ],
 "metadata": {
  "kernelspec": {
   "display_name": "Python 3",
   "language": "python",
   "name": "python3"
  },
  "language_info": {
   "codemirror_mode": {
    "name": "ipython",
    "version": 3
   },
   "file_extension": ".py",
   "mimetype": "text/x-python",
   "name": "python",
   "nbconvert_exporter": "python",
   "pygments_lexer": "ipython3",
   "version": "3.7.4"
  }
 },
 "nbformat": 4,
 "nbformat_minor": 2
}
