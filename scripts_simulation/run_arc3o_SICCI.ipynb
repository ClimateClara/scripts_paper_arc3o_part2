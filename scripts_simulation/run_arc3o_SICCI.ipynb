{
 "cells": [
  {
   "cell_type": "markdown",
   "metadata": {},
   "source": [
    "Created on Tue Nov 12 16:38 2018\n",
    "\n",
    "Running ARC3O on SICCI2 assimilation run with snow emissivity to 1: folder '20191112-1647'\n",
    "\n",
    "@author: Clara Burgard"
   ]
  },
  {
   "cell_type": "code",
   "execution_count": 2,
   "metadata": {},
   "outputs": [],
   "source": [
    "import xarray as xr\n",
    "import numpy as np"
   ]
  },
  {
   "cell_type": "code",
   "execution_count": null,
   "metadata": {},
   "outputs": [],
   "source": [
    "import sys\n",
    "sys.path.append('./arc3o')\n",
    "import core_functions as arc3o"
   ]
  },
  {
   "cell_type": "markdown",
   "metadata": {},
   "source": [
    "PREPARE PATHS"
   ]
  },
  {
   "cell_type": "code",
   "execution_count": 3,
   "metadata": {},
   "outputs": [],
   "source": [
    "inputpath = '/work/mh0033/m300411/SatSim/WORK_DATA/assim_SICCI2_50km/'\n",
    "inputpath0 = '/work/mh0033/m300411/SatSim/WORK_DATA/assim_SICCI2_50km_mergetime/'\n",
    "outputpath0 = '/work/mh0033/m300411/SatSim/SatSim2D/workflow_test/'"
   ]
  },
  {
   "cell_type": "code",
   "execution_count": 4,
   "metadata": {},
   "outputs": [
    {
     "name": "stdout",
     "output_type": "stream",
     "text": [
      "output directory stays /work/mh0033/m300411/SatSim/SatSim2D/workflow_test/20191112-1647/\n"
     ]
    }
   ],
   "source": [
    "outputpath = satsim.new_outputpath('no',outputpath0,'20191112-1647')"
   ]
  },
  {
   "cell_type": "markdown",
   "metadata": {},
   "source": [
    "READ IN DATA"
   ]
  },
  {
   "cell_type": "code",
   "execution_count": 5,
   "metadata": {},
   "outputs": [],
   "source": [
    "orig_data = xr.open_dataset(inputpath0+'assim_SICCI2_50km_echam6_200211-200812_selcode_Arctic_varofint.nc')\n",
    "#write time in the right format\n",
    "orig_data = satsim.prep_time(orig_data)"
   ]
  },
  {
   "cell_type": "markdown",
   "metadata": {},
   "source": [
    "COMPUTE BRIGHTNESS TEMPERATURES BASED ON THE MPI-ESM SICCI ASSIMILATION RUN"
   ]
  },
  {
   "cell_type": "code",
   "execution_count": 8,
   "metadata": {},
   "outputs": [
    {
     "name": "stdout",
     "output_type": "stream",
     "text": [
      "------- YOU CHOSE TO READ THE MASKS FROM NETCDF ---------------\n"
     ]
    }
   ],
   "source": [
    "#for the whole time series\n",
    "\n",
    "start_year = 2004\n",
    "end_year = 2008\n",
    "\n",
    "file_begin = 'assim_SICCI2_50km_echam6_'\n",
    "file_end = '_selcode_Arctic.nc'\n",
    "\n",
    "freq_of_int = 6.9\n",
    "\n",
    "arc3o.satsim_complete_parallel(orig_data,freq_of_int,start_year,end_year,inputpath,outputpath,file_begin,file_end,write_mask='yes',write_profiles='yes',compute_memls='yes',e_bias_fyi=0.968,e_bias_myi=0.968,snow_emis=1)"
   ]
  }
 ],
 "metadata": {
  "kernelspec": {
   "display_name": "Python 3",
   "language": "python",
   "name": "python3"
  },
  "language_info": {
   "codemirror_mode": {
    "name": "ipython",
    "version": 3
   },
   "file_extension": ".py",
   "mimetype": "text/x-python",
   "name": "python",
   "nbconvert_exporter": "python",
   "pygments_lexer": "ipython3",
   "version": "3.7.4"
  }
 },
 "nbformat": 4,
 "nbformat_minor": 2
}
