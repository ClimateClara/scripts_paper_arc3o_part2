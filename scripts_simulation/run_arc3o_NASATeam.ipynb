{
 "cells": [
  {
   "cell_type": "markdown",
   "metadata": {},
   "source": [
    "Created on Tue Jan 22 13:55 2019\n",
    "\n",
    "Running ARC3O on NASA Team assimilation run with snow emissivity to 1: folder '20191114-1221'\n",
    "\n",
    "@author: Clara Burgard\n"
   ]
  },
  {
   "cell_type": "code",
   "execution_count": null,
   "metadata": {},
   "outputs": [],
   "source": [
    "import xarray as xr\n",
    "import numpy as np"
   ]
  },
  {
   "cell_type": "code",
   "execution_count": null,
   "metadata": {},
   "outputs": [],
   "source": [
    "import sys\n",
    "sys.path.append('./arc3o')\n",
    "import core_functions as arc3o"
   ]
  },
  {
   "cell_type": "markdown",
   "metadata": {},
   "source": [
    "PREPARE PATHS"
   ]
  },
  {
   "cell_type": "code",
   "execution_count": null,
   "metadata": {},
   "outputs": [],
   "source": [
    "inputpath = '/work/mh0033/m300411/SatSim/WORK_DATA/assimilation_runs/assim_NASATeam/'\n",
    "inputpath0 = '/work/mh0033/m300411/SatSim/WORK_DATA/assimilation_runs/assim_NASATeam_mergetime/'\n",
    "outputpath0 = '/work/mh0033/m300411/SatSim/WORK_DATA/simulated_TBs/'"
   ]
  },
  {
   "cell_type": "code",
   "execution_count": null,
   "metadata": {},
   "outputs": [],
   "source": [
    "outputpath = satsim.new_outputpath('no',outputpath0,'20191114-1221')"
   ]
  },
  {
   "cell_type": "markdown",
   "metadata": {},
   "source": [
    "READ IN DATA"
   ]
  },
  {
   "cell_type": "code",
   "execution_count": null,
   "metadata": {},
   "outputs": [],
   "source": [
    "orig_data = xr.open_dataset(inputpath0+'assim_NASATeam_echam6_200201-200812_selcode_Arctic_varofint.nc')\n",
    "#write time in the right format\n",
    "orig_data = satsim.prep_time(orig_data)"
   ]
  },
  {
   "cell_type": "markdown",
   "metadata": {},
   "source": [
    "COMPUTE BRIGHTNESS TEMPERATURES BASED ON THE MPI-ESM BOOTSTRAP ASSIMILATION RUN"
   ]
  },
  {
   "cell_type": "code",
   "execution_count": null,
   "metadata": {},
   "outputs": [],
   "source": [
    "start_year = 2003\n",
    "end_year = 2008\n",
    "\n",
    "file_begin = 'assim_NASATeam_echam6_'\n",
    "file_end = '_selcode_Arctic.nc'\n",
    "\n",
    "freq_of_int = 6.9\n",
    "\n",
    "arc3o.satsim_complete_parallel(orig_data,freq_of_int,start_year,end_year,inputpath,outputpath,file_begin,file_end,write_mask='no',write_profiles='no',compute_memls='no',e_bias_fyi=0.968,e_bias_myi=0.968,snow_emis=np.nan)"
   ]
  }
 ],
 "metadata": {
  "kernelspec": {
   "display_name": "Python 3",
   "language": "python",
   "name": "python3"
  },
  "language_info": {
   "codemirror_mode": {
    "name": "ipython",
    "version": 3
   },
   "file_extension": ".py",
   "mimetype": "text/x-python",
   "name": "python",
   "nbconvert_exporter": "python",
   "pygments_lexer": "ipython3",
   "version": "3.7.4"
  }
 },
 "nbformat": 4,
 "nbformat_minor": 2
}
